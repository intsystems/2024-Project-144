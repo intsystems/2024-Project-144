{
 "cells": [
  {
   "cell_type": "code",
   "execution_count": 1,
   "id": "initial_id",
   "metadata": {
    "collapsed": true,
    "ExecuteTime": {
     "end_time": "2024-04-02T09:43:25.016964Z",
     "start_time": "2024-04-02T09:43:22.309614Z"
    }
   },
   "outputs": [],
   "source": [
    "import pandas as pd\n",
    "import torch\n",
    "import torch.nn as nn\n",
    "import scipy.stats as sps\n",
    "from scipy.interpolate import interp1d\n",
    "from torch.utils.data import DataLoader\n",
    "from IPython.display import clear_output\n",
    "from matplotlib import pyplot as plt\n",
    "from matplotlib.pyplot import figure\n",
    "import numpy as np\n",
    "from tqdm import tqdm\n",
    "import seaborn as sns\n",
    "import os\n",
    "from typing import List\n",
    "\n",
    "device = 'cuda:0' if torch.cuda.is_available() else 'cpu'"
   ]
  },
  {
   "cell_type": "code",
   "outputs": [
    {
     "name": "stdout",
     "output_type": "stream",
     "text": [
      "cuda:0\n"
     ]
    }
   ],
   "source": [
    "print(device)"
   ],
   "metadata": {
    "collapsed": false,
    "ExecuteTime": {
     "end_time": "2024-04-02T09:43:25.021943Z",
     "start_time": "2024-04-02T09:43:25.018218Z"
    }
   },
   "id": "1767d2b5eabb0f11",
   "execution_count": 2
  },
  {
   "cell_type": "code",
   "outputs": [],
   "source": [
    "\n",
    "class FeedbackDataset:\n",
    "    def __init__(self, feedback: pd.DataFrame, user_info: pd.DataFrame, item_info: pd.DataFrame):\n",
    "        self.feedback = feedback\n",
    "        self.user_info = user_info\n",
    "        self.item_info = item_info\n",
    "\n",
    "    def __getitem__(self, idx: int):\n",
    "        deal = self.feedback.iloc[idx]\n",
    "        user_features = self.user_info.loc[self.user_info.UserId == deal['UserId']].drop('UserId', axis=1).to_numpy()\n",
    "        item_features = self.item_info.loc[self.item_info.ItemId == deal['ItemId']].drop('ItemId', axis=1).to_numpy()\n",
    "        feedback = deal[\"Feedback\"]\n",
    "        return np.hstack([user_features, item_features])[0], feedback\n",
    "\n",
    "    def __len__(self) -> int:\n",
    "        return self.feedback.shape[0]"
   ],
   "metadata": {
    "collapsed": false,
    "ExecuteTime": {
     "end_time": "2024-04-02T09:43:25.040810Z",
     "start_time": "2024-04-02T09:43:25.023173Z"
    }
   },
   "id": "6611ab7e44cd6bbf",
   "execution_count": 3
  },
  {
   "cell_type": "code",
   "outputs": [],
   "source": [
    "def usefulness(c, w, noice):\n",
    "    return np.arctan(c - w + noice) / np.pi + 0.5\n",
    "\n",
    "\n",
    "customer_distribution = sps.norm(0.6, 0.2)\n",
    "w_distribution = sps.norm(0, 0.4)\n",
    "\n",
    "epsilon = sps.norm(0, 0.05)\n",
    "\n",
    "\n",
    "class Distribution_Handler:\n",
    "    def __init__(self, distribution):\n",
    "        self.distribution = distribution\n",
    "\n",
    "    def rvs(self, size=1):\n",
    "        if issubclass(type(self.distribution), sps.rv_continuous):\n",
    "            return self.distribution.rvs(size)\n",
    "        else:\n",
    "            return self.distribution.resample(size)[0]"
   ],
   "metadata": {
    "collapsed": false,
    "ExecuteTime": {
     "end_time": "2024-04-02T10:35:02.216063Z",
     "start_time": "2024-04-02T10:35:02.211078Z"
    }
   },
   "id": "6e5677989c16e5fd",
   "execution_count": 14
  },
  {
   "cell_type": "code",
   "outputs": [],
   "source": [
    "class NeuralNetwork(nn.Module):\n",
    "    def __init__(self, input_shape=2, num_classes=2):\n",
    "        super(self.__class__, self).__init__()\n",
    "        self.ratings = []\n",
    "        self.model = nn.Sequential(\n",
    "            nn.Linear(input_shape, 512),\n",
    "            nn.ReLU(),\n",
    "            nn.Linear(512, 256),\n",
    "            nn.LeakyReLU(),\n",
    "            nn.Sigmoid(),\n",
    "            nn.Linear(256, 32),\n",
    "            nn.Sigmoid(),\n",
    "            nn.Linear(32, num_classes),\n",
    "            nn.Sigmoid(),\n",
    "        )\n",
    "\n",
    "    def get_interacted_items(self, user_id):\n",
    "        return self.ratings.loc[self.ratings.UserId == user_id]['ItemId'].unique()\n",
    "\n",
    "    def recommend_topN(self, user_info, items_to_recommend, topn=10):\n",
    "        with torch.no_grad():\n",
    "            n = min(topn, len(items_to_recommend.index))\n",
    "            features = items_to_recommend[\"F\"].to_numpy()\n",
    "            x = np.vstack((np.array([user_info[\"F\"]] * len(features)), features)).T\n",
    "            x = (torch.from_numpy(x)).type(torch.FloatTensor).to(device)\n",
    "            y_pred = self.__call__(x)[:, 1]\n",
    "            \n",
    "            res = torch.topk(y_pred, k=n)\n",
    "            return pd.DataFrame({\"ItemId\": res.indices.cpu().numpy(), \"Rating\": res.values.cpu().numpy()})\n",
    "\n",
    "    def forward(self, inp):\n",
    "        out = self.model(inp)\n",
    "        return out"
   ],
   "metadata": {
    "collapsed": false,
    "ExecuteTime": {
     "end_time": "2024-04-02T10:53:51.336148Z",
     "start_time": "2024-04-02T10:53:51.331272Z"
    }
   },
   "id": "4412e2a19db654df",
   "execution_count": 149
  },
  {
   "cell_type": "code",
   "outputs": [],
   "source": [],
   "metadata": {
    "collapsed": false,
    "ExecuteTime": {
     "end_time": "2024-04-02T10:53:52.099938Z",
     "start_time": "2024-04-02T10:53:52.098290Z"
    }
   },
   "id": "13d5fed1b8dc748",
   "execution_count": 149
  },
  {
   "cell_type": "code",
   "outputs": [],
   "source": [
    "def fit_epoch(model, optimizer, loss_function, loader):\n",
    "    model.train()\n",
    "    processed_size = 0\n",
    "    cumulative_loss = 0.0\n",
    "    correct = 0\n",
    "\n",
    "    for x_batch, y_batch in loader:\n",
    "        x_batch = x_batch.type(torch.FloatTensor).to(device)\n",
    "        y_batch = y_batch.type(torch.FloatTensor).to(device)\n",
    "        optimizer.zero_grad()\n",
    "\n",
    "        y_pred = model(x_batch)\n",
    "        loss = loss_function.forward(y_pred[:, 1], y_batch)\n",
    "        loss.backward()\n",
    "\n",
    "        optimizer.step()\n",
    "        cumulative_loss += loss\n",
    "        processed_size += x_batch.shape[0]\n",
    "        correct += torch.sum(torch.argmax(y_pred, dim=1) == y_batch)\n",
    "\n",
    "    return cumulative_loss.item() / processed_size, correct.item() / processed_size"
   ],
   "metadata": {
    "collapsed": false,
    "ExecuteTime": {
     "end_time": "2024-04-02T10:53:52.263292Z",
     "start_time": "2024-04-02T10:53:52.258549Z"
    }
   },
   "id": "8bf64d20cd0a2697",
   "execution_count": 150
  },
  {
   "cell_type": "code",
   "outputs": [],
   "source": [
    "def eval_epoch(model, loss_function, loader):\n",
    "    model.eval()\n",
    "    processed_size = 0\n",
    "    cumulative_loss = 0.0\n",
    "    correct = 0\n",
    "    with torch.no_grad():\n",
    "        for x_batch, y_batch in loader:\n",
    "            x_batch = x_batch.type(torch.FloatTensor).to(device)\n",
    "            y_batch = y_batch.type(torch.FloatTensor).to(device)\n",
    "            \n",
    "            y_pred = model(x_batch)\n",
    "            loss = loss_function.forward(y_pred[:,1], y_batch)\n",
    "\n",
    "            cumulative_loss += loss\n",
    "            processed_size += len(x_batch)\n",
    "            correct += torch.sum(torch.argmax(y_pred, dim=1) == y_batch)\n",
    "\n",
    "    return cumulative_loss.item() / processed_size, correct.item() / processed_size"
   ],
   "metadata": {
    "collapsed": false,
    "ExecuteTime": {
     "end_time": "2024-04-02T11:00:36.482969Z",
     "start_time": "2024-04-02T11:00:36.477972Z"
    }
   },
   "id": "b85a3a3439ec3ece",
   "execution_count": 181
  },
  {
   "cell_type": "code",
   "outputs": [],
   "source": [
    "# model = NeuralNetwork().to(device)\n",
    "# opt = torch.optim.Adam(model.parameters(), lr=1e-3, betas=(0.9, 0.999))\n",
    "# loss_func = torch.nn.BCELoss()\n",
    "# n_epoch = 10\n",
    "# loss_history = []\n",
    "# accuracy_history = []\n",
    "# for epoch in range(n_epoch):\n",
    "#     train_loss_and_accuracy = fit_epoch(model, opt, loss_func, train_data_loader)\n",
    "#     # validation_loss_and_accuracy = eval_epoch(model, loss_func, val_loader)\n",
    "#     loss_history.append(train_loss_and_accuracy[0])\n",
    "#     accuracy_history.append(train_loss_and_accuracy[1])\n",
    "# \n",
    "#     print(f\"Train loss: {loss_history[-1]}\")\n",
    "#     print(f\"Train accuracy: {accuracy_history[-1]}\")"
   ],
   "metadata": {
    "collapsed": false,
    "ExecuteTime": {
     "end_time": "2024-04-02T11:00:36.820053Z",
     "start_time": "2024-04-02T11:00:36.818002Z"
    }
   },
   "id": "5316cb05aa444863",
   "execution_count": 182
  },
  {
   "cell_type": "code",
   "outputs": [],
   "source": [
    "def print_distributions(num_of_iteration, axs, user_info, item_info):\n",
    "    sns.kdeplot(user_info[\"F\"], ax=axs[0], label=f\"Itration number = {num_of_iteration}\")\n",
    "    axs[0].set_title(\"User Distribution\")\n",
    "    sns.kdeplot(data=item_info[\"F\"], ax=axs[1])\n",
    "    axs[1].set_title(\"Item Distribution\")"
   ],
   "metadata": {
    "collapsed": false,
    "ExecuteTime": {
     "end_time": "2024-04-02T11:00:37.019602Z",
     "start_time": "2024-04-02T11:00:37.015440Z"
    }
   },
   "id": "8345fb4dd070be27",
   "execution_count": 183
  },
  {
   "cell_type": "code",
   "outputs": [],
   "source": [
    "def dynamic_system_iterate(model, loss_function, optimizer, customer_distribution, w_distribution, c_size=8, w_size=8, num_of_steps=5, topn=5,\n",
    "                           delta=1e-4):\n",
    "    user_info = pd.DataFrame(\n",
    "        {\"F\": customer_distribution.rvs(size=c_size)})  # size = (c_size, c_feature_size) в многомерном случае \n",
    "    user_info[\"UserId\"] = np.arange(c_size)\n",
    "\n",
    "    item_info = pd.DataFrame(\n",
    "        {\"F\": w_distribution.rvs(size=w_size)})  # size = (w_size, w_feature_size) в многомерном случае \n",
    "    item_info[\"ItemId\"] = np.arange(w_size)\n",
    "\n",
    "    predicted_feedback = []\n",
    "    real_feedback = []\n",
    "    \n",
    "    for step in range(1, num_of_steps + 1):\n",
    "        for index, user_row in user_info.iterrows():\n",
    "            w_offered = model.recommend_topN(user_row, item_info, topn=topn)\n",
    "            for _, w in w_offered.iterrows():\n",
    "                # print(w)\n",
    "                feature = item_info.loc[item_info.ItemId == w.ItemId][\"F\"]\n",
    "                real_deal = sps.bernoulli.rvs(usefulness(user_row[\"F\"], feature, epsilon.rvs()))  # моделируем сделки\n",
    "                real_feedback.append((user_row[\"UserId\"], w[\"ItemId\"], real_deal))\n",
    "                \n",
    "                predicted_deal =  sps.bernoulli.rvs(w[\"Rating\"])\n",
    "                predicted_feedback.append((user_row[\"UserId\"], w[\"ItemId\"], predicted_deal))\n",
    "    # print(real_feedback)\n",
    "    new_feedback_df = pd.DataFrame(real_feedback, columns=['UserId', 'ItemId', 'Feedback'])    \n",
    "    \n",
    "    # print(new_feedback_df)\n",
    "    batch_size = 128\n",
    "    train_dataset = FeedbackDataset(new_feedback_df, user_info, item_info)\n",
    "    train_data_loader = DataLoader(train_dataset, batch_size=batch_size, shuffle=True)\n",
    "    \n",
    "    loss, accuracy = eval_epoch(model, loss_function, train_data_loader)\n",
    "    fit_epoch(model, optimizer, loss_function, train_data_loader)\n",
    "    \n",
    "    grouped_users = new_feedback_df.groupby('UserId')['Feedback'].mean().reset_index()\n",
    "    grouped_users['Feedback'] += delta\n",
    "\n",
    "    user_info = user_info.merge(grouped_users, how=\"inner\", on='UserId')\n",
    "    customer_distribution = Distribution_Handler(\n",
    "        sps.gaussian_kde(user_info[\"F\"], bw_method=.105, weights=user_info['Feedback']))\n",
    "    grouped_items = new_feedback_df.groupby('ItemId')['Feedback'].mean().reset_index()\n",
    "\n",
    "    item_info = item_info.merge(grouped_items, how=\"left\", on='ItemId').fillna(0)\n",
    "    item_info['Feedback'] += delta\n",
    "\n",
    "    w_distribution = Distribution_Handler(\n",
    "        sps.gaussian_kde(item_info[\"F\"], bw_method=.09, weights=item_info['Feedback']))\n",
    "\n",
    "    return customer_distribution, w_distribution, loss\n",
    "\n"
   ],
   "metadata": {
    "collapsed": false,
    "ExecuteTime": {
     "end_time": "2024-04-02T11:02:30.064551Z",
     "start_time": "2024-04-02T11:02:30.058488Z"
    }
   },
   "id": "977fe91f4ed230f3",
   "execution_count": 192
  },
  {
   "cell_type": "code",
   "outputs": [],
   "source": [
    "start_c_size = 128\n",
    "start_w_size = 128\n",
    "\n",
    "user_info = pd.DataFrame({\"F\": customer_distribution.rvs(size=start_c_size)})  # генерим датасет для нулевой итерации\n",
    "user_info[\"UserId\"] = np.arange(start_c_size)\n",
    "\n",
    "item_info = pd.DataFrame({\"F\": w_distribution.rvs(size=start_w_size)})\n",
    "item_info[\"ItemId\"] = np.arange(start_w_size)\n",
    "feedback = []\n",
    "\n",
    "# print_distributions(0, axs,user_info, item_info)\n",
    "\n",
    "for i, user_row in user_info.iterrows():\n",
    "    for j, item_row in item_info.iterrows():\n",
    "        deal = sps.bernoulli.rvs(usefulness(user_row[\"F\"], item_row[\"F\"], epsilon.rvs()))\n",
    "        feedback.append((user_row[\"UserId\"], item_row[\"ItemId\"], deal))\n",
    "feedback = pd.DataFrame(feedback, columns=['UserId', 'ItemId', 'Feedback'])\n",
    "batch_size = 512\n",
    "train_dataset = FeedbackDataset(feedback, user_info, item_info)\n",
    "train_data_loader = DataLoader(train_dataset, batch_size=batch_size, shuffle=True)\n"
   ],
   "metadata": {
    "collapsed": false,
    "ExecuteTime": {
     "end_time": "2024-04-02T11:14:23.096826Z",
     "start_time": "2024-04-02T11:14:21.481611Z"
    }
   },
   "id": "8c49bfcbf42200ca",
   "execution_count": 208
  },
  {
   "cell_type": "code",
   "outputs": [],
   "source": [
    "model = NeuralNetwork().to(device)\n",
    "opt = torch.optim.Adam(model.parameters(), lr=1e-3, betas=(0.9, 0.999))\n",
    "loss_func = torch.nn.BCELoss()\n",
    "loss_history = []\n",
    "# accuracy_history = []\n",
    "loss, _ = fit_epoch(model, opt, loss_func, train_data_loader)\n",
    "# loss_history.append(loss)"
   ],
   "metadata": {
    "collapsed": false,
    "ExecuteTime": {
     "end_time": "2024-04-02T11:14:32.318109Z",
     "start_time": "2024-04-02T11:14:23.097663Z"
    }
   },
   "id": "2c47010307f420b0",
   "execution_count": 209
  },
  {
   "cell_type": "code",
   "outputs": [
    {
     "name": "stderr",
     "output_type": "stream",
     "text": [
      "100%|██████████| 200/200 [03:30<00:00,  1.05s/it]\n"
     ]
    }
   ],
   "source": [
    "new_cust_distr, new_w_distr = customer_distribution, w_distribution\n",
    "c_size = 128\n",
    "w_size = 256\n",
    "big_steps = 200\n",
    "for i in tqdm(range(big_steps)):\n",
    "    if i % 5 == 0:\n",
    "        new_cust_distr, new_w_distr, loss = dynamic_system_iterate(model, loss_func, opt, new_cust_distr, new_w_distr,\n",
    "                                                                                c_size=c_size,\n",
    "                                                                                w_size=w_size, num_of_steps=1)\n",
    "        # plt.figure(figsize=(7, 7))\n",
    "        # plt.hist(current_metr_distr[\"Feedback\"], density=True)\n",
    "    else:\n",
    "        new_cust_distr, new_w_distr, loss = dynamic_system_iterate(model, loss_func, opt, new_cust_distr, new_w_distr,\n",
    "                                                                                 c_size=c_size,\n",
    "                                                                                 w_size=w_size, num_of_steps=1)\n",
    "    loss_history.append(loss)\n"
   ],
   "metadata": {
    "collapsed": false,
    "ExecuteTime": {
     "end_time": "2024-04-02T11:18:02.964155Z",
     "start_time": "2024-04-02T11:14:32.318964Z"
    }
   },
   "id": "7568b22755b9e666",
   "execution_count": 210
  },
  {
   "cell_type": "code",
   "outputs": [
    {
     "data": {
      "text/plain": "<Figure size 640x480 with 1 Axes>",
      "image/png": "[encoded data removed]"
     },
     "metadata": {},
     "output_type": "display_data"
    }
   ],
   "source": [
    "plt.plot(np.arange(big_steps), loss_history)\n",
    "# fig.legend(loc='center left', bbox_to_anchor=(1, 0.5))\n",
    "plt.show()"
   ],
   "metadata": {
    "collapsed": false,
    "ExecuteTime": {
     "end_time": "2024-04-02T11:18:18.359775Z",
     "start_time": "2024-04-02T11:18:18.211248Z"
    }
   },
   "id": "24d3f8c62c653e18",
   "execution_count": 212
  },
  {
   "cell_type": "code",
   "outputs": [],
   "source": [
    "\n",
    "a = np.array([1, 2, 3])\n",
    "b = np.array([5] * len(a))\n",
    "a, b"
   ],
   "metadata": {
    "collapsed": false
   },
   "id": "36fc4be18ce3586d",
   "execution_count": null
  },
  {
   "cell_type": "code",
   "outputs": [],
   "source": [
    "tmp = np.vstack((b, a)).T"
   ],
   "metadata": {
    "collapsed": false,
    "ExecuteTime": {
     "end_time": "2024-04-02T08:49:29.831603Z",
     "start_time": "2024-04-02T08:49:29.828515Z"
    }
   },
   "id": "9b2cd916903e0516",
   "execution_count": 343
  },
  {
   "cell_type": "code",
   "outputs": [],
   "source": [
    "t = torch.from_numpy(tmp)"
   ],
   "metadata": {
    "collapsed": false
   },
   "id": "25b9269e2d8fa448"
  }
 ],
 "metadata": {
  "kernelspec": {
   "display_name": "Python 3",
   "language": "python",
   "name": "python3"
  },
  "language_info": {
   "codemirror_mode": {
    "name": "ipython",
    "version": 2
   },
   "file_extension": ".py",
   "mimetype": "text/x-python",
   "name": "python",
   "nbconvert_exporter": "python",
   "pygments_lexer": "ipython2",
   "version": "2.7.6"
  }
 },
 "nbformat": 4,
 "nbformat_minor": 5
}
