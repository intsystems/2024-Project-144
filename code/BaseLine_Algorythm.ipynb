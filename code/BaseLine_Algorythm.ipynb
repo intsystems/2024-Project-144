{
 "cells": [
  {
   "cell_type": "code",
   "execution_count": 145,
   "id": "initial_id",
   "metadata": {
    "collapsed": true,
    "id": "initial_id",
    "ExecuteTime": {
     "end_time": "2024-03-14T15:02:42.414392Z",
     "start_time": "2024-03-14T15:02:42.410028Z"
    }
   },
   "outputs": [],
   "source": [
    "import scipy.stats as sps\n",
    "import numpy as np\n",
    "\n",
    "import pandas as pd\n",
    "import math\n",
    "import random\n",
    "import sklearn\n",
    "\n",
    "from scipy.sparse import csr_matrix\n",
    "from sklearn.model_selection import train_test_split\n",
    "from sklearn.feature_extraction.text import TfidfVectorizer\n",
    "from sklearn.metrics.pairwise import cosine_similarity\n",
    "from scipy.sparse.linalg import svds\n",
    "from sklearn.preprocessing import MinMaxScaler\n",
    "import matplotlib.pyplot as plt\n",
    "import scipy"
   ]
  },
  {
   "cell_type": "markdown",
   "source": [
    "Данные, которые подаются на вход базовому алгоритму состоят из:\n",
    " - множества всех товаров на данной итерации,\n",
    " - множества всех пользователей,\n",
    " - таблица F формы (c_len, w_len) с фидбеком пользователей для товаров. фидбек $\\in [0, 1]$\n",
    "\n",
    "\n",
    "Данные генерируем синтетическим образом:\n",
    "cчитаем, что пользователи имеют одну фичу и она распределена нормально:  $c_i\n",
    "\\sim \\cal{N} (1.65,\\ 0.2^2)$ . Товары задаются одной фичей, которая распределена равномерно: $w_i \\sim \\cal {U}(1, 2) $.\n",
    "Фидбек будем генерировать так: $F_{c,w} = C[a_c + t_w + \\varepsilon_{c, w}]$. Где\n",
    " $a_c \\sim \\cal{N}(0.6, 0.2^2) $ - центр оценки пользователя $c$, $t_w \\sim \\cal N(0,0.2^2)$ - полезность товара,  $\\varepsilon \\sim \\cal N(0, 0.05^2)$ - случайный шум. C(x) - это функция, которая округляет фидбэк к отрезку $[0,1]$: \\\\\n",
    " если x > 1: C(x) =  1 \\\\\n",
    " если x < 0: C(x) = 0 \\\\\n",
    " иначе: C(x) = x\n"
   ],
   "metadata": {
    "id": "XGaakHkImSMK"
   },
   "id": "XGaakHkImSMK"
  },
  {
   "cell_type": "code",
   "source": [
    "c_size = 100\n",
    "w_size = 50\n",
    "\n",
    "c_mean = 1.65\n",
    "c_sigma = 0.2\n",
    "c_distr = sps.norm(c_mean, c_sigma)\n",
    "c_sample = c_distr.rvs(size=c_size)\n",
    "\n",
    "w_params = [0, 1]\n",
    "w_distr = sps.uniform(*w_params)\n",
    "w_sample = w_distr.rvs(size=w_size)\n"
   ],
   "metadata": {
    "id": "BF4HgHvOpCk6",
    "ExecuteTime": {
     "end_time": "2024-03-14T15:02:42.710662Z",
     "start_time": "2024-03-14T15:02:42.705920Z"
    }
   },
   "id": "BF4HgHvOpCk6",
   "execution_count": 146,
   "outputs": []
  },
  {
   "cell_type": "code",
   "source": [
    "centr = sps.norm(0.6, 0.2).rvs(size=c_size)\n",
    "usefulness = sps.norm(0, 0.2).rvs(size=w_size)\n",
    "epsilon = sps.norm(0, 0.05).rvs(size=(c_size, w_size))\n"
   ],
   "metadata": {
    "id": "UgV6lvYNGa07",
    "ExecuteTime": {
     "end_time": "2024-03-14T15:02:42.862075Z",
     "start_time": "2024-03-14T15:02:42.857982Z"
    }
   },
   "id": "UgV6lvYNGa07",
   "execution_count": 147,
   "outputs": []
  },
  {
   "cell_type": "code",
   "source": [
    "Feedback = (epsilon + usefulness) + centr[:, np.newaxis]\n"
   ],
   "metadata": {
    "id": "bThvXa7GH1gj",
    "ExecuteTime": {
     "end_time": "2024-03-14T15:02:43.070834Z",
     "start_time": "2024-03-14T15:02:43.068234Z"
    }
   },
   "id": "bThvXa7GH1gj",
   "execution_count": 148,
   "outputs": []
  },
  {
   "cell_type": "markdown",
   "source": [
    "Релизуем базовый алгоритм TopPop. Он не зависит от конкретного пользователя и рекомендует ему n товаров, с самым большим рейтингом."
   ],
   "metadata": {
    "id": "TNA69UZDpB_j"
   },
   "id": "TNA69UZDpB_j"
  },
  {
   "cell_type": "code",
   "source": [
    "def TopPop(X, n):\n",
    "    # X: (c_len, w_len)\n",
    "    indices = np.argpartition(np.mean(X, axis=0), n)[:n]\n",
    "    # return value: nd.array indicies of recommended items, probability for every customer of buiyng recommended items.\n",
    "    return indices, X[:, indices]"
   ],
   "metadata": {
    "id": "2jswttjeI3Y6",
    "ExecuteTime": {
     "end_time": "2024-03-14T15:02:43.607051Z",
     "start_time": "2024-03-14T15:02:43.604571Z"
    }
   },
   "id": "2jswttjeI3Y6",
   "execution_count": 149,
   "outputs": []
  },
  {
   "cell_type": "markdown",
   "source": [
    "Ткт я решил все-так использовать MovieLens... Но можно попробовать и на синтетических потом\n",
    "MovieLens 100K:\n",
    "ContentBasedRecommender - рекоммендует товары, наиболее похожие на те, с которыми пользователь взаимодействовал до этого\n"
   ],
   "metadata": {
    "id": "N3wHko4CkISh"
   },
   "id": "N3wHko4CkISh"
  },
  {
   "cell_type": "code",
   "source": [],
   "metadata": {
    "colab": {
     "base_uri": "https://localhost:8080/",
     "height": 401
    },
    "id": "DWMuL55csrvY",
    "outputId": "22691c83-5644-412f-9c15-090cdb253a8b",
    "ExecuteTime": {
     "end_time": "2024-03-14T15:02:44.106450Z",
     "start_time": "2024-03-14T15:02:44.104175Z"
    }
   },
   "id": "DWMuL55csrvY",
   "execution_count": 149,
   "outputs": []
  },
  {
   "cell_type": "code",
   "outputs": [],
   "source": [
    "\n",
    "u_cols = ['user_id', 'age', 'sex', 'occupation', 'zip_code']\n",
    "users = pd.read_csv('ml-100k/u.user', sep='|', names=u_cols,\n",
    "                    encoding='latin-1')\n",
    "\n",
    "r_cols = ['user_id', 'movie_id', 'rating', 'unix_timestamp']\n",
    "ratings = pd.read_csv('ml-100k/u.data', sep='\\t', names=r_cols,\n",
    "                      encoding='latin-1')\n",
    "\n",
    "m_cols = ['movie_id', 'title', 'release_date', 'video_release_date', 'imdb_url']\n",
    "movies = pd.read_csv('ml-100k/u.item', sep='|', names=m_cols, usecols=range(5),\n",
    "                     encoding='latin-1')\n",
    "\n",
    "\n",
    "# users_interactions_count_df = ratings.groupby(['user_id', 'movie_id']).size().groupby('user_id').size()\n",
    "# users_with_enough_interactions_df = users_interactions_count_df[users_interactions_count_df >= 2].reset_index()[['user_id']]\n",
    "# interactions_from_selected_users_df = ratings.merge(users_with_enough_interactions_df, \n",
    "#                how = 'right',\n",
    "#                left_on = 'user_id',\n",
    "#                right_on = 'user_id')\n",
    "# interactions_from_selected_users_df"
   ],
   "metadata": {
    "collapsed": false,
    "ExecuteTime": {
     "end_time": "2024-03-14T15:02:44.302585Z",
     "start_time": "2024-03-14T15:02:44.276190Z"
    }
   },
   "id": "41f7becc5189c97",
   "execution_count": 150
  },
  {
   "cell_type": "markdown",
   "source": [
    "Разобъем обучающую и тренеровочную выборки относительно времени:"
   ],
   "metadata": {
    "collapsed": false
   },
   "id": "76a9376456b3b70e"
  },
  {
   "cell_type": "code",
   "outputs": [],
   "source": [
    "# ratings = ratings.sort_values(by=\"unix_timestamp\", ascending=True)\n",
    "# ratings"
   ],
   "metadata": {
    "collapsed": false,
    "ExecuteTime": {
     "end_time": "2024-03-14T15:02:44.590286Z",
     "start_time": "2024-03-14T15:02:44.588326Z"
    }
   },
   "id": "b9cbb82ecdaf559f",
   "execution_count": 151
  },
  {
   "cell_type": "code",
   "outputs": [],
   "source": [
    "\n",
    "ratings_train, ratings_test = train_test_split(ratings, test_size=0.1, shuffle=True)\n",
    "\n",
    "ratings_indexed = ratings.set_index('user_id')\n",
    "ratings_train_indexed = ratings_train.set_index('user_id')\n",
    "ratings_test_indexed = ratings_test.set_index('user_id')"
   ],
   "metadata": {
    "collapsed": false,
    "ExecuteTime": {
     "end_time": "2024-03-14T15:02:44.821819Z",
     "start_time": "2024-03-14T15:02:44.813017Z"
    }
   },
   "id": "ea83c0df4e132374",
   "execution_count": 152
  },
  {
   "cell_type": "code",
   "outputs": [
    {
     "data": {
      "text/plain": "76952    924\n90530    916\n90343    907\n58920    357\n22691    115\n        ... \n43143    390\n53423    500\n43765    450\n68136    485\n37211    399\nName: user_id, Length: 90000, dtype: int64"
     },
     "execution_count": 153,
     "metadata": {},
     "output_type": "execute_result"
    }
   ],
   "source": [
    "ratings_train[\"user_id\"]"
   ],
   "metadata": {
    "collapsed": false,
    "ExecuteTime": {
     "end_time": "2024-03-14T15:02:44.976032Z",
     "start_time": "2024-03-14T15:02:44.972477Z"
    }
   },
   "id": "d1b4043db71722a8",
   "execution_count": 153
  },
  {
   "cell_type": "code",
   "source": [
    "#Top-N accuracy metrics consts\n",
    "EVAL_RANDOM_SAMPLE_NON_INTERACTED_ITEMS = 200\n",
    "\n",
    "\n",
    "def get_items_interacted(person_id, interactions_df):\n",
    "    # Get the user's data and merge in the movie information.\n",
    "    interacted_items = interactions_df.loc[person_id]['movie_id']\n",
    "    return set(interacted_items if type(interacted_items) == pd.Series else [interacted_items])\n",
    "\n",
    "\n",
    "class ModelEvaluator:\n",
    "    def get_not_interacted_items_sample(self, person_id, sample_size, seed=42):\n",
    "        interacted_items = get_items_interacted(person_id, ratings_indexed)\n",
    "        all_items = set(movies['movie_id'])\n",
    "        non_interacted_items = sorted(all_items - interacted_items)\n",
    "\n",
    "        random.seed(seed)\n",
    "        non_interacted_items_sample = random.sample(non_interacted_items, sample_size)\n",
    "        return set(non_interacted_items_sample)\n",
    "\n",
    "    def _verify_hit_top_n(self, item_id, recommended_items, topn):\n",
    "        try:\n",
    "            index = next(i for i, c in enumerate(recommended_items) if c == item_id)\n",
    "        except:\n",
    "            index = -1\n",
    "        hit = int(index in range(0, topn))\n",
    "        return hit, index\n",
    "\n",
    "    def evaluate_model_for_user(self, model, person_id):\n",
    "        #Getting the items in test set\n",
    "        interacted_values_testset = ratings_test_indexed.loc[person_id]\n",
    "        if type(interacted_values_testset['movie_id']) == pd.Series:\n",
    "            person_interacted_items_testset = set(interacted_values_testset['movie_id'])\n",
    "        else:\n",
    "            person_interacted_items_testset = set([int(interacted_values_testset['movie_id'])])\n",
    "        interacted_items_count_testset = len(person_interacted_items_testset)\n",
    "\n",
    "        #Getting a ranked recommendation list from a model for a given user\n",
    "        person_recs_df = model.recommend_items(person_id,\n",
    "                                               items_to_ignore=get_items_interacted(person_id,\n",
    "                                                                                    ratings_train_indexed),\n",
    "                                               topn=10000000000)\n",
    "\n",
    "        hits_at_5_count = 0\n",
    "        hits_at_10_count = 0\n",
    "        #For each item the user has interacted in test set\n",
    "        for item_id in person_interacted_items_testset:\n",
    "            #Getting a random sample (100) items the user has not interacted \n",
    "            #(to represent items that are assumed to be no relevant to the user)\n",
    "            non_interacted_items_sample = self.get_not_interacted_items_sample(person_id,\n",
    "                                                                               sample_size=EVAL_RANDOM_SAMPLE_NON_INTERACTED_ITEMS,\n",
    "                                                                               seed=item_id % (2 ** 32))\n",
    "\n",
    "            #Combining the current interacted item with the 100 random items\n",
    "            items_to_filter_recs = non_interacted_items_sample.union(set([item_id]))\n",
    "\n",
    "            #Filtering only recommendations that are either the interacted item or from a random sample of 100 non-interacted items\n",
    "            valid_recs_df = person_recs_df[person_recs_df['movie_id'].isin(items_to_filter_recs)]\n",
    "            valid_recs = valid_recs_df['movie_id'].values\n",
    "            #Verifying if the current interacted item is among the Top-N recommended items\n",
    "            hit_at_5, index_at_5 = self._verify_hit_top_n(item_id, valid_recs, 5)\n",
    "            hits_at_5_count += hit_at_5\n",
    "            hit_at_10, index_at_10 = self._verify_hit_top_n(item_id, valid_recs, 10)\n",
    "            hits_at_10_count += hit_at_10\n",
    "\n",
    "        #Recall is the rate of the interacted items that are ranked among the Top-N recommended items, \n",
    "        #when mixed with a set of non-relevant items\n",
    "        recall_at_5 = hits_at_5_count / float(interacted_items_count_testset)\n",
    "        recall_at_10 = hits_at_10_count / float(interacted_items_count_testset)\n",
    "\n",
    "        person_metrics = {'hits@5_count': hits_at_5_count,\n",
    "                          'hits@10_count': hits_at_10_count,\n",
    "                          'interacted_count': interacted_items_count_testset,\n",
    "                          'recall@5': recall_at_5,\n",
    "                          'recall@10': recall_at_10}\n",
    "        return person_metrics\n",
    "\n",
    "    def evaluate_model(self, model):\n",
    "        #print('Running evaluation for users')\n",
    "        people_metrics = []\n",
    "        for idx, person_id in enumerate(list(ratings_test_indexed.index.unique().values)):\n",
    "            person_metrics = self.evaluate_model_for_user(model, person_id)\n",
    "            person_metrics['_person_id'] = person_id\n",
    "            people_metrics.append(person_metrics)\n",
    "        print('%d users processed' % idx)\n",
    "\n",
    "        detailed_results_df = pd.DataFrame(people_metrics) \\\n",
    "            .sort_values('interacted_count', ascending=False)\n",
    "\n",
    "        global_recall_at_5 = detailed_results_df['hits@5_count'].sum() / float(\n",
    "            detailed_results_df['interacted_count'].sum())\n",
    "        global_recall_at_10 = detailed_results_df['hits@10_count'].sum() / float(\n",
    "            detailed_results_df['interacted_count'].sum())\n",
    "\n",
    "        global_metrics = {'recall@5': global_recall_at_5,\n",
    "                          'recall@10': global_recall_at_10}\n",
    "        return global_metrics, detailed_results_df\n",
    "\n",
    "\n",
    "model_evaluator = ModelEvaluator()"
   ],
   "metadata": {
    "colab": {
     "base_uri": "https://localhost:8080/"
    },
    "id": "9MQ1BEaeJ0Gg",
    "outputId": "adf5716c-298a-4bd4-d704-44bc371d5221",
    "ExecuteTime": {
     "end_time": "2024-03-14T15:04:20.791275Z",
     "start_time": "2024-03-14T15:04:20.782251Z"
    }
   },
   "id": "9MQ1BEaeJ0Gg",
   "execution_count": 165,
   "outputs": []
  },
  {
   "cell_type": "code",
   "outputs": [],
   "source": [
    "item_ids = movies[\"movie_id\"].tolist()"
   ],
   "metadata": {
    "collapsed": false,
    "ExecuteTime": {
     "end_time": "2024-03-14T15:04:21.285427Z",
     "start_time": "2024-03-14T15:04:21.283319Z"
    }
   },
   "id": "8ba78a9c8a7833a8",
   "execution_count": 166
  },
  {
   "cell_type": "code",
   "outputs": [
    {
     "data": {
      "text/plain": "<1682x137 sparse matrix of type '<class 'numpy.float64'>'\n\twith 3479 stored elements in Compressed Sparse Row format>"
     },
     "execution_count": 167,
     "metadata": {},
     "output_type": "execute_result"
    }
   ],
   "source": [
    "\n",
    "vectorizer = TfidfVectorizer(analyzer='word',\n",
    "                     ngram_range=(1, 2),\n",
    "                     min_df=0.003,\n",
    "                     max_df=0.5,\n",
    "                     max_features=5000)\n",
    "\n",
    "tfidf_matrix = vectorizer.fit_transform(movies['title'])\n",
    "tfidf_feature_names = vectorizer.get_feature_names_out()\n",
    "tfidf_matrix"
   ],
   "metadata": {
    "collapsed": false,
    "ExecuteTime": {
     "end_time": "2024-03-14T15:04:21.743241Z",
     "start_time": "2024-03-14T15:04:21.719591Z"
    }
   },
   "id": "cd66cf64b19609a0",
   "execution_count": 167
  },
  {
   "cell_type": "code",
   "outputs": [
    {
     "data": {
      "text/plain": "943"
     },
     "execution_count": 168,
     "metadata": {},
     "output_type": "execute_result"
    }
   ],
   "source": [
    "\n",
    "\n",
    "def get_item_profile(item_id):\n",
    "    idx = item_ids.index(item_id)\n",
    "    item_profile = tfidf_matrix[idx:idx+1]\n",
    "    return item_profile\n",
    "\n",
    "\n",
    "def get_item_profiles(ids):\n",
    "    item_profiles_list = [get_item_profile(x) for x in ids]\n",
    "    item_profiles = scipy.sparse.vstack(item_profiles_list)\n",
    "    return item_profiles\n",
    "\n",
    "\n",
    "def build_users_profile(person_id, interactions_indexed_df):\n",
    "    interactions_person_df = interactions_indexed_df.loc[person_id]\n",
    "    # if hasattr(interactions_person_df['movie_id'], '__iter__'):\n",
    "    user_item_profiles = get_item_profiles(interactions_person_df['movie_id'])\n",
    "    # else:\n",
    "    #     user_item_profiles = get_item_profiles([interactions_person_df['movie_id']])\n",
    "\n",
    "\n",
    "\n",
    "    user_item_ratings = np.array(interactions_person_df['rating']).reshape(-1, 1)\n",
    "    #Weighted average of item profiles by the interactions rating\n",
    "    user_item_ratings_weighted_avg = np.sum(user_item_profiles.multiply(user_item_ratings), axis=0) / np.sum(\n",
    "        user_item_ratings)\n",
    "    user_profile_norm = sklearn.preprocessing.normalize(np.asarray(user_item_ratings_weighted_avg))\n",
    "    return user_profile_norm\n",
    "\n",
    "\n",
    "def build_users_profiles():\n",
    "    interactions_indexed_df = ratings_train.set_index('user_id')\n",
    "    user_profiles = {}\n",
    "    for person_id in interactions_indexed_df.index.unique():\n",
    "        user_profiles[person_id] = build_users_profile(person_id, interactions_indexed_df)\n",
    "    return user_profiles\n",
    "\n",
    "\n",
    "user_profiles = build_users_profiles()\n",
    "len(user_profiles)"
   ],
   "metadata": {
    "collapsed": false,
    "ExecuteTime": {
     "end_time": "2024-03-14T15:04:27.587026Z",
     "start_time": "2024-03-14T15:04:22.649413Z"
    }
   },
   "id": "7f6896b7d7ce06a4",
   "execution_count": 168
  },
  {
   "cell_type": "code",
   "source": [
    "\n",
    "\n",
    "class ContentBasedRecommender:\n",
    "    def __init__(self, items_df=None):\n",
    "        self.item_ids = item_ids\n",
    "        self.items_df = items_df\n",
    "\n",
    "    def _get_similar_items_to_user_profile(self, person_id, topn=1000):\n",
    "        #Computes the cosine similarity between the user profile and all item profiles\n",
    "        cosine_similarities = cosine_similarity(user_profiles[person_id], tfidf_matrix)\n",
    "        #Gets the top similar items\n",
    "        similar_indices = cosine_similarities.argsort().flatten()[-topn:]\n",
    "        #Sort the similar items by similarity\n",
    "        similar_items = sorted([(item_ids[i], cosine_similarities[0, i]) for i in similar_indices], key=lambda x: -x[1])\n",
    "        return similar_items\n",
    "\n",
    "    def recommend_items(self, customer_id, items_to_ignore=[], topn=10, verbose=False):\n",
    "        similar_items = self._get_similar_items_to_user_profile(customer_id)\n",
    "        #Ignores items the user has already interacted\n",
    "        similar_items_filtered = list(filter(lambda x: x[0] not in items_to_ignore, similar_items))\n",
    "\n",
    "        recommendations_df = pd.DataFrame(similar_items_filtered, columns=['movie_id', 'rating']).head(topn)\n",
    "\n",
    "        return recommendations_df\n",
    "\n",
    "\n",
    "content_based_recommender_model = ContentBasedRecommender(movies)"
   ],
   "metadata": {
    "id": "Pkbeeh5RKvBj",
    "ExecuteTime": {
     "end_time": "2024-03-14T15:04:29.092223Z",
     "start_time": "2024-03-14T15:04:29.088444Z"
    }
   },
   "id": "Pkbeeh5RKvBj",
   "execution_count": 169,
   "outputs": []
  },
  {
   "cell_type": "code",
   "outputs": [
    {
     "name": "stdout",
     "output_type": "stream",
     "text": [
      "929 users processed\n",
      "\n",
      "Global metrics: {'recall@5': 0.0456, 'recall@10': 0.0888}\n"
     ]
    },
    {
     "data": {
      "text/plain": "     hits@5_count  hits@10_count  interacted_count  recall@5  recall@10  \\\n27             10             15                69  0.144928   0.217391   \n81              1              3                64  0.015625   0.046875   \n205             2              7                60  0.033333   0.116667   \n143             0              0                59  0.000000   0.000000   \n144             2              5                55  0.036364   0.090909   \n84              0              0                53  0.000000   0.000000   \n475             2              2                48  0.041667   0.041667   \n170             3              4                47  0.063830   0.085106   \n61              0              2                46  0.000000   0.043478   \n51              2              3                45  0.044444   0.066667   \n\n     _person_id  \n27          405  \n81          655  \n205         537  \n143          13  \n144         279  \n84          276  \n475         450  \n170         846  \n61          201  \n51          416  ",
      "text/html": "<div>\n<style scoped>\n    .dataframe tbody tr th:only-of-type {\n        vertical-align: middle;\n    }\n\n    .dataframe tbody tr th {\n        vertical-align: top;\n    }\n\n    .dataframe thead th {\n        text-align: right;\n    }\n</style>\n<table border=\"1\" class=\"dataframe\">\n  <thead>\n    <tr style=\"text-align: right;\">\n      <th></th>\n      <th>hits@5_count</th>\n      <th>hits@10_count</th>\n      <th>interacted_count</th>\n      <th>recall@5</th>\n      <th>recall@10</th>\n      <th>_person_id</th>\n    </tr>\n  </thead>\n  <tbody>\n    <tr>\n      <th>27</th>\n      <td>10</td>\n      <td>15</td>\n      <td>69</td>\n      <td>0.144928</td>\n      <td>0.217391</td>\n      <td>405</td>\n    </tr>\n    <tr>\n      <th>81</th>\n      <td>1</td>\n      <td>3</td>\n      <td>64</td>\n      <td>0.015625</td>\n      <td>0.046875</td>\n      <td>655</td>\n    </tr>\n    <tr>\n      <th>205</th>\n      <td>2</td>\n      <td>7</td>\n      <td>60</td>\n      <td>0.033333</td>\n      <td>0.116667</td>\n      <td>537</td>\n    </tr>\n    <tr>\n      <th>143</th>\n      <td>0</td>\n      <td>0</td>\n      <td>59</td>\n      <td>0.000000</td>\n      <td>0.000000</td>\n      <td>13</td>\n    </tr>\n    <tr>\n      <th>144</th>\n      <td>2</td>\n      <td>5</td>\n      <td>55</td>\n      <td>0.036364</td>\n      <td>0.090909</td>\n      <td>279</td>\n    </tr>\n    <tr>\n      <th>84</th>\n      <td>0</td>\n      <td>0</td>\n      <td>53</td>\n      <td>0.000000</td>\n      <td>0.000000</td>\n      <td>276</td>\n    </tr>\n    <tr>\n      <th>475</th>\n      <td>2</td>\n      <td>2</td>\n      <td>48</td>\n      <td>0.041667</td>\n      <td>0.041667</td>\n      <td>450</td>\n    </tr>\n    <tr>\n      <th>170</th>\n      <td>3</td>\n      <td>4</td>\n      <td>47</td>\n      <td>0.063830</td>\n      <td>0.085106</td>\n      <td>846</td>\n    </tr>\n    <tr>\n      <th>61</th>\n      <td>0</td>\n      <td>2</td>\n      <td>46</td>\n      <td>0.000000</td>\n      <td>0.043478</td>\n      <td>201</td>\n    </tr>\n    <tr>\n      <th>51</th>\n      <td>2</td>\n      <td>3</td>\n      <td>45</td>\n      <td>0.044444</td>\n      <td>0.066667</td>\n      <td>416</td>\n    </tr>\n  </tbody>\n</table>\n</div>"
     },
     "execution_count": 170,
     "metadata": {},
     "output_type": "execute_result"
    }
   ],
   "source": [
    "cb_global_metrics, cb_detailed_results_df = model_evaluator.evaluate_model(content_based_recommender_model)\n",
    "print('\\nGlobal metrics:', cb_global_metrics)\n",
    "cb_detailed_results_df.head(10)"
   ],
   "metadata": {
    "collapsed": false,
    "ExecuteTime": {
     "end_time": "2024-03-14T15:04:58.065021Z",
     "start_time": "2024-03-14T15:04:49.252834Z"
    }
   },
   "id": "520e2f2a3af80df9",
   "execution_count": 170
  },
  {
   "cell_type": "code",
   "outputs": [],
   "source": [
    "\n",
    "users_items_pivot_matrix_df = ratings_train.pivot(index='user_id', \n",
    "                                                          columns='movie_id', \n",
    "                                                          values='rating').fillna(0)\n",
    "users_items_pivot_matrix = users_items_pivot_matrix_df.values\n",
    "users_items_pivot_sparse_matrix = csr_matrix(users_items_pivot_matrix)\n",
    "\n",
    "users_ids = list(users_items_pivot_matrix_df.index)\n",
    "\n",
    "#The number of factors to factor the user-item matrix.\n",
    "NUMBER_OF_FACTORS_MF = 30\n",
    "#Performs matrix factorization of the original user item matrix\n",
    "#U, sigma, Vt = svds(users_items_pivot_matrix, k = NUMBER_OF_FACTORS_MF)\n",
    "U, sigma, Vt = svds(users_items_pivot_sparse_matrix, k = NUMBER_OF_FACTORS_MF)"
   ],
   "metadata": {
    "collapsed": false,
    "ExecuteTime": {
     "end_time": "2024-03-14T15:02:46.667886Z",
     "start_time": "2024-03-14T15:02:46.521952Z"
    }
   },
   "id": "ec19ee7e84fa51c8",
   "execution_count": 159
  },
  {
   "cell_type": "code",
   "outputs": [
    {
     "data": {
      "text/plain": "((943, 30), (30,), (30, 1665))"
     },
     "execution_count": 160,
     "metadata": {},
     "output_type": "execute_result"
    }
   ],
   "source": [
    "U.shape, sigma.shape, Vt.shape"
   ],
   "metadata": {
    "collapsed": false,
    "ExecuteTime": {
     "end_time": "2024-03-14T15:02:46.824121Z",
     "start_time": "2024-03-14T15:02:46.821060Z"
    }
   },
   "id": "65d06613bcbe3d1b",
   "execution_count": 160
  },
  {
   "cell_type": "code",
   "outputs": [],
   "source": [
    "all_user_predicted_ratings = np.dot(np.dot(U, np.diag(sigma)), Vt) "
   ],
   "metadata": {
    "collapsed": false,
    "ExecuteTime": {
     "end_time": "2024-03-14T15:02:47.430084Z",
     "start_time": "2024-03-14T15:02:47.423654Z"
    }
   },
   "id": "e671dfb3328784b1",
   "execution_count": 161
  },
  {
   "cell_type": "code",
   "outputs": [],
   "source": [
    "all_user_predicted_ratings_norm = (all_user_predicted_ratings - all_user_predicted_ratings.min()) / (all_user_predicted_ratings.max() - all_user_predicted_ratings.min())\n",
    "\n",
    "cf_preds_df = pd.DataFrame(all_user_predicted_ratings_norm, columns = users_items_pivot_matrix_df.columns, index=users_ids).transpose()"
   ],
   "metadata": {
    "collapsed": false,
    "ExecuteTime": {
     "end_time": "2024-03-14T15:02:47.593529Z",
     "start_time": "2024-03-14T15:02:47.584028Z"
    }
   },
   "id": "c8cdb751d9a3ee6a",
   "execution_count": 162
  },
  {
   "cell_type": "code",
   "outputs": [],
   "source": [
    "class CFRecommender:\n",
    "    \n",
    "    MODEL_NAME = 'Collaborative Filtering'\n",
    "    \n",
    "    def __init__(self, cf_predictions_df, items_df=None):\n",
    "        self.cf_predictions_df = cf_predictions_df\n",
    "        self.items_df = items_df\n",
    "        \n",
    "        \n",
    "    def recommend_items(self, user_id, items_to_ignore=[], topn=10, verbose=False):\n",
    "        # Get and sort the user's predictions\n",
    "        sorted_user_predictions = self.cf_predictions_df[user_id].sort_values(ascending=False) \\\n",
    "                                    .reset_index().rename(columns={user_id: 'rating'})\n",
    "\n",
    "        # Recommend the highest predicted rating movies that the user hasn't seen yet.\n",
    "        recommendations_df = sorted_user_predictions[~sorted_user_predictions['movie_id'].isin(items_to_ignore)] \\\n",
    "                               .sort_values('rating', ascending = False) \\\n",
    "                               .head(topn)\n",
    "\n",
    "        # if verbose:\n",
    "        #     if self.items_df is None:\n",
    "        #         raise Exception('\"items_df\" is required in verbose mode')\n",
    "        # \n",
    "        #     recommendations_df = recommendations_df.merge(self.items_df, how = 'left', \n",
    "        #                                                   left_on = 'movie_id', \n",
    "        #                                                   right_on = 'contentId')[['recStrength', 'contentId', 'title', 'url', 'lang']]\n",
    "\n",
    "\n",
    "        return recommendations_df\n",
    "    \n",
    "cf_recommender_model = CFRecommender(cf_preds_df, movies)"
   ],
   "metadata": {
    "collapsed": false,
    "ExecuteTime": {
     "end_time": "2024-03-14T15:02:47.785338Z",
     "start_time": "2024-03-14T15:02:47.781252Z"
    }
   },
   "id": "a0ceac9e14609d87",
   "execution_count": 163
  },
  {
   "cell_type": "code",
   "outputs": [
    {
     "name": "stdout",
     "output_type": "stream",
     "text": [
      "929 users processed\n",
      "\n",
      "Global metrics: {'recall@5': 0.4499, 'recall@10': 0.588}\n"
     ]
    },
    {
     "data": {
      "text/plain": "     hits@5_count  hits@10_count  interacted_count  recall@5  recall@10  \\\n27             25             31                69  0.362319   0.449275   \n81             18             28                64  0.281250   0.437500   \n205            31             38                60  0.516667   0.633333   \n143            11             15                59  0.186441   0.254237   \n144            14             18                55  0.254545   0.327273   \n84             26             32                53  0.490566   0.603774   \n475            16             21                48  0.333333   0.437500   \n170            25             29                47  0.531915   0.617021   \n61             16             20                46  0.347826   0.434783   \n51             15             18                45  0.333333   0.400000   \n\n     _person_id  \n27          405  \n81          655  \n205         537  \n143          13  \n144         279  \n84          276  \n475         450  \n170         846  \n61          201  \n51          416  ",
      "text/html": "<div>\n<style scoped>\n    .dataframe tbody tr th:only-of-type {\n        vertical-align: middle;\n    }\n\n    .dataframe tbody tr th {\n        vertical-align: top;\n    }\n\n    .dataframe thead th {\n        text-align: right;\n    }\n</style>\n<table border=\"1\" class=\"dataframe\">\n  <thead>\n    <tr style=\"text-align: right;\">\n      <th></th>\n      <th>hits@5_count</th>\n      <th>hits@10_count</th>\n      <th>interacted_count</th>\n      <th>recall@5</th>\n      <th>recall@10</th>\n      <th>_person_id</th>\n    </tr>\n  </thead>\n  <tbody>\n    <tr>\n      <th>27</th>\n      <td>25</td>\n      <td>31</td>\n      <td>69</td>\n      <td>0.362319</td>\n      <td>0.449275</td>\n      <td>405</td>\n    </tr>\n    <tr>\n      <th>81</th>\n      <td>18</td>\n      <td>28</td>\n      <td>64</td>\n      <td>0.281250</td>\n      <td>0.437500</td>\n      <td>655</td>\n    </tr>\n    <tr>\n      <th>205</th>\n      <td>31</td>\n      <td>38</td>\n      <td>60</td>\n      <td>0.516667</td>\n      <td>0.633333</td>\n      <td>537</td>\n    </tr>\n    <tr>\n      <th>143</th>\n      <td>11</td>\n      <td>15</td>\n      <td>59</td>\n      <td>0.186441</td>\n      <td>0.254237</td>\n      <td>13</td>\n    </tr>\n    <tr>\n      <th>144</th>\n      <td>14</td>\n      <td>18</td>\n      <td>55</td>\n      <td>0.254545</td>\n      <td>0.327273</td>\n      <td>279</td>\n    </tr>\n    <tr>\n      <th>84</th>\n      <td>26</td>\n      <td>32</td>\n      <td>53</td>\n      <td>0.490566</td>\n      <td>0.603774</td>\n      <td>276</td>\n    </tr>\n    <tr>\n      <th>475</th>\n      <td>16</td>\n      <td>21</td>\n      <td>48</td>\n      <td>0.333333</td>\n      <td>0.437500</td>\n      <td>450</td>\n    </tr>\n    <tr>\n      <th>170</th>\n      <td>25</td>\n      <td>29</td>\n      <td>47</td>\n      <td>0.531915</td>\n      <td>0.617021</td>\n      <td>846</td>\n    </tr>\n    <tr>\n      <th>61</th>\n      <td>16</td>\n      <td>20</td>\n      <td>46</td>\n      <td>0.347826</td>\n      <td>0.434783</td>\n      <td>201</td>\n    </tr>\n    <tr>\n      <th>51</th>\n      <td>15</td>\n      <td>18</td>\n      <td>45</td>\n      <td>0.333333</td>\n      <td>0.400000</td>\n      <td>416</td>\n    </tr>\n  </tbody>\n</table>\n</div>"
     },
     "execution_count": 164,
     "metadata": {},
     "output_type": "execute_result"
    }
   ],
   "source": [
    "cb_global_metrics, cb_detailed_results_df = model_evaluator.evaluate_model(cf_recommender_model)\n",
    "print('\\nGlobal metrics:', cb_global_metrics)\n",
    "cb_detailed_results_df.head(10)"
   ],
   "metadata": {
    "collapsed": false,
    "ExecuteTime": {
     "end_time": "2024-03-14T15:02:55.765800Z",
     "start_time": "2024-03-14T15:02:47.998451Z"
    }
   },
   "id": "783ad1aaa2c6a27d",
   "execution_count": 164
  },
  {
   "cell_type": "code",
   "outputs": [],
   "source": [],
   "metadata": {
    "collapsed": false
   },
   "id": "dbd87396bc9e15b1"
  }
 ],
 "metadata": {
  "kernelspec": {
   "display_name": "Python 3",
   "language": "python",
   "name": "python3"
  },
  "language_info": {
   "codemirror_mode": {
    "name": "ipython",
    "version": 2
   },
   "file_extension": ".py",
   "mimetype": "text/x-python",
   "name": "python",
   "nbconvert_exporter": "python",
   "pygments_lexer": "ipython2",
   "version": "2.7.6"
  },
  "colab": {
   "provenance": []
  }
 },
 "nbformat": 4,
 "nbformat_minor": 5
}
