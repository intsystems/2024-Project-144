{
 "cells": [
  {
   "cell_type": "code",
   "execution_count": null,
   "id": "initial_id",
   "metadata": {
    "collapsed": true
   },
   "outputs": [],
   "source": [
    "import scipy.stats as sps\n",
    "import numpy as np\n",
    "from CMF_Predictor import CMFRecommender\n",
    "import pandas as pd\n",
    "import math\n",
    "import random\n",
    "import sklearn\n",
    "\n",
    "from scipy.sparse import csr_matrix\n",
    "from sklearn.model_selection import train_test_split\n",
    "from sklearn.feature_extraction.text import TfidfVectorizer\n",
    "from sklearn.metrics.pairwise import cosine_similarity\n",
    "from scipy.sparse.linalg import svds\n",
    "from sklearn.preprocessing import MinMaxScaler\n",
    "import matplotlib.pyplot as plt\n",
    "import scipy\n",
    "from tqdm import tqdm\n",
    "\n",
    "from libmf import mf"
   ]
  },
  {
   "cell_type": "code",
   "outputs": [],
   "source": [
    "def usefullness(c, w, noice):\n",
    "    return np.arctan(c - w + noice) / np.pi + 0.5"
   ],
   "metadata": {
    "collapsed": false
   },
   "id": "55dfca8f998a51a5"
  },
  {
   "cell_type": "code",
   "outputs": [],
   "source": [
    "customer_distribution = sps.norm(0.6, 0.2)\n",
    "w_distribution = sps.norm(0, 0.4)\n",
    "\n",
    "epsilon = sps.norm(0, 0.05)"
   ],
   "metadata": {
    "collapsed": false
   },
   "id": "70b1cac38b3c3832"
  },
  {
   "cell_type": "code",
   "outputs": [],
   "source": [
    "def zero_step(model: CMFRecommender, user_info, item_info, topn=5):\n",
    "    new_feedback = []\n",
    "\n",
    "    w_offered = model.recommend_items_new(user_id, item_info[\"F\"], topn=topn)  # вот тут придумать, какие user_id будем подставлять \n",
    "    for w in w_offered:\n",
    "        deal = sps.bernoulli.rvs(usefullness(user_row[\"F\"], w, epsilon.rvs()))  # моделируем сделки\n",
    "        new_feedback.append((user_row[\"UserId\"], w, deal))\n",
    "    \n",
    "    for index, user_row in user_info.iterrows():\n",
    "        w_offered = model.recommend_items_cold(user_row[\"F\"], topn)[\"ItemId\"]\n",
    "        for w in w_offered:\n",
    "            deal = sps.bernoulli.rvs(usefullness(user_row[\"F\"], w, epsilon.rvs()))  # моделируем сделки\n",
    "            new_feedback.append((user_row[\"UserId\"], w, deal))\n",
    "    \n",
    "    \n",
    "    model.retrain(new_feedback, user_info, item_info)\n",
    "    return model\n"
   ],
   "metadata": {
    "collapsed": false
   },
   "id": "15c9afdeb2e5f9a5"
  },
  {
   "cell_type": "code",
   "outputs": [],
   "source": [
    "def dynamic_system_iterate(model: CMFRecommender, customer_distribution, w_distribution, c_size, w_size, num_of_steps=5,\n",
    "                           topn=5):\n",
    "    \n",
    "    maximal_user, maximal_item = model.get_max_index()\n",
    "    user_info = pd.DataFrame({\"F\": customer_distribution.rvs(size=c_size)})  # size = (c_size, c_feature_size) в многомерном случае \n",
    "    user_info[\"UserId\"] = np.arange(maximal_user + 1, maximal_user + 1  + c_size)\n",
    "\n",
    "    item_info = pd.DataFrame({\"F\": w_distribution.rvs(size=w_size)})  # size = (w_size, w_feature_size) в многомерном случае \n",
    "    item_info[\"ItemId\"] = np.arange(maximal_item + 1, maximal_item + 1 + w_size)\n",
    "\n",
    "    model = zero_step(model, user_info, item_info, topn=topn)\n",
    "    \n",
    "    new_feedback = []\n",
    "    for step in range(1, num_of_steps + 1):\n",
    "\n",
    "        for index, user_row in user_info.iterrows():\n",
    "            w_offered = model.recommend_items(user_row[\"UserId\"], topn=topn, exclude_rated=True)[\"ItemId\"]\n",
    "            for w in w_offered:\n",
    "                deal = sps.bernoulli.rvs(usefullness(user_row[\"F\"], w, epsilon.rvs()))  # моделируем сделки\n",
    "                new_feedback.append((user_row[\"UserId\"], w, deal))\n",
    "\n",
    "\n",
    "    ## сделать фит в scipy.stats.rv_continuous, пока что хз как( и в return уже новое распределение\n",
    "    return customer_distribution, w_distribution, new_feedback"
   ],
   "metadata": {
    "collapsed": false
   },
   "id": "ebd805e2fa269c00"
  }
 ],
 "metadata": {
  "kernelspec": {
   "display_name": "Python 3",
   "language": "python",
   "name": "python3"
  },
  "language_info": {
   "codemirror_mode": {
    "name": "ipython",
    "version": 2
   },
   "file_extension": ".py",
   "mimetype": "text/x-python",
   "name": "python",
   "nbconvert_exporter": "python",
   "pygments_lexer": "ipython2",
   "version": "2.7.6"
  }
 },
 "nbformat": 4,
 "nbformat_minor": 5
}
