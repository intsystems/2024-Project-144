{
 "cells": [
  {
   "cell_type": "code",
   "outputs": [],
   "source": [
    "import scipy.stats as sps\n",
    "import numpy as np\n",
    "\n",
    "import pandas as pd\n",
    "import math\n",
    "import random\n",
    "import sklearn\n",
    "\n",
    "from scipy.sparse import csr_matrix\n",
    "from sklearn.model_selection import train_test_split\n",
    "from sklearn.feature_extraction.text import TfidfVectorizer\n",
    "from sklearn.metrics.pairwise import cosine_similarity\n",
    "from scipy.sparse.linalg import svds\n",
    "from sklearn.preprocessing import MinMaxScaler\n",
    "import matplotlib.pyplot as plt\n",
    "import scipy\n",
    "from tqdm import tqdm\n",
    "\n",
    "from libmf import mf"
   ],
   "metadata": {
    "collapsed": false,
    "ExecuteTime": {
     "end_time": "2024-03-18T16:47:31.511150Z",
     "start_time": "2024-03-18T16:47:31.508129Z"
    }
   },
   "id": "fb29d25781f5c754",
   "execution_count": 50
  },
  {
   "cell_type": "code",
   "outputs": [],
   "source": [
    "\n",
    "u_cols = ['user_id', 'age', 'sex', 'occupation', 'zip_code']\n",
    "users = pd.read_csv('ml-100k/u.user', sep='|', names=u_cols,\n",
    "                    encoding='latin-1')\n",
    "\n",
    "r_cols = ['user_id', 'item_id', 'rating']\n",
    "ratings = pd.read_csv('ml-100k/u.data', sep='\\t', names=r_cols, usecols=range(3),\n",
    "                      encoding='latin-1')\n",
    "\n",
    "m_cols = ['item_id', 'title', 'release_date', 'video_release_date', 'imdb_url']\n",
    "movies = pd.read_csv('ml-100k/u.item', sep='|', names=m_cols, usecols=range(5),\n",
    "                     encoding='latin-1')\n"
   ],
   "metadata": {
    "collapsed": false,
    "ExecuteTime": {
     "end_time": "2024-03-18T16:47:31.805309Z",
     "start_time": "2024-03-18T16:47:31.781166Z"
    }
   },
   "id": "e7d546e28ad151e1",
   "execution_count": 51
  },
  {
   "cell_type": "code",
   "outputs": [],
   "source": [
    "ratings_train, ratings_test = train_test_split(ratings, test_size=0.1, shuffle=True)"
   ],
   "metadata": {
    "collapsed": false,
    "ExecuteTime": {
     "end_time": "2024-03-18T16:47:32.701348Z",
     "start_time": "2024-03-18T16:47:32.692951Z"
    }
   },
   "id": "315709732ba4bd0f",
   "execution_count": 52
  },
  {
   "cell_type": "code",
   "outputs": [
    {
     "data": {
      "text/plain": "       user_id  item_id  rating\n56292      200       234       4\n14354       76        23       5\n71079      385       176       2\n99572      894       166       4\n61009      392       463       3\n...        ...       ...     ...\n52786      288      1065       4\n98051      913       289       5\n14220      286       161       2\n74771      835       484       4\n13686      401       519       4\n\n[90000 rows x 3 columns]",
      "text/html": "<div>\n<style scoped>\n    .dataframe tbody tr th:only-of-type {\n        vertical-align: middle;\n    }\n\n    .dataframe tbody tr th {\n        vertical-align: top;\n    }\n\n    .dataframe thead th {\n        text-align: right;\n    }\n</style>\n<table border=\"1\" class=\"dataframe\">\n  <thead>\n    <tr style=\"text-align: right;\">\n      <th></th>\n      <th>user_id</th>\n      <th>item_id</th>\n      <th>rating</th>\n    </tr>\n  </thead>\n  <tbody>\n    <tr>\n      <th>56292</th>\n      <td>200</td>\n      <td>234</td>\n      <td>4</td>\n    </tr>\n    <tr>\n      <th>14354</th>\n      <td>76</td>\n      <td>23</td>\n      <td>5</td>\n    </tr>\n    <tr>\n      <th>71079</th>\n      <td>385</td>\n      <td>176</td>\n      <td>2</td>\n    </tr>\n    <tr>\n      <th>99572</th>\n      <td>894</td>\n      <td>166</td>\n      <td>4</td>\n    </tr>\n    <tr>\n      <th>61009</th>\n      <td>392</td>\n      <td>463</td>\n      <td>3</td>\n    </tr>\n    <tr>\n      <th>...</th>\n      <td>...</td>\n      <td>...</td>\n      <td>...</td>\n    </tr>\n    <tr>\n      <th>52786</th>\n      <td>288</td>\n      <td>1065</td>\n      <td>4</td>\n    </tr>\n    <tr>\n      <th>98051</th>\n      <td>913</td>\n      <td>289</td>\n      <td>5</td>\n    </tr>\n    <tr>\n      <th>14220</th>\n      <td>286</td>\n      <td>161</td>\n      <td>2</td>\n    </tr>\n    <tr>\n      <th>74771</th>\n      <td>835</td>\n      <td>484</td>\n      <td>4</td>\n    </tr>\n    <tr>\n      <th>13686</th>\n      <td>401</td>\n      <td>519</td>\n      <td>4</td>\n    </tr>\n  </tbody>\n</table>\n<p>90000 rows × 3 columns</p>\n</div>"
     },
     "execution_count": 53,
     "metadata": {},
     "output_type": "execute_result"
    }
   ],
   "source": [
    "ratings_train"
   ],
   "metadata": {
    "collapsed": false,
    "ExecuteTime": {
     "end_time": "2024-03-18T16:47:33.066297Z",
     "start_time": "2024-03-18T16:47:33.060591Z"
    }
   },
   "id": "e2d7f517f3f36bb5",
   "execution_count": 53
  },
  {
   "cell_type": "code",
   "outputs": [],
   "source": [
    "def get_items_interacted(person_id, interactions_df):\n",
    "    # Get the user's data and merge in the movie information.\n",
    "    if person_id in interactions_df.index:\n",
    "        interacted_items = interactions_df.loc[person_id]['item_id']\n",
    "    else:\n",
    "        return set()\n",
    "    return set(interacted_items if type(interacted_items) == pd.Series else [interacted_items])"
   ],
   "metadata": {
    "collapsed": false,
    "ExecuteTime": {
     "end_time": "2024-03-18T16:47:33.982157Z",
     "start_time": "2024-03-18T16:47:33.979037Z"
    }
   },
   "id": "e2400fbf93a454b1",
   "execution_count": 54
  },
  {
   "cell_type": "code",
   "outputs": [],
   "source": [
    "from CF_Predictor import CFRecommender\n",
    "\n",
    "cf_recommender_model = CFRecommender(ratings_train)\n"
   ],
   "metadata": {
    "collapsed": true,
    "ExecuteTime": {
     "end_time": "2024-03-18T16:47:34.814225Z",
     "start_time": "2024-03-18T16:47:34.662628Z"
    }
   },
   "id": "initial_id",
   "execution_count": 55
  },
  {
   "cell_type": "code",
   "outputs": [],
   "source": [
    "def change_distribution(model_class, ratings_train, ratings_test, probability=0.9):\n",
    "    model = model_class(ratings_train)\n",
    "    ratings_test_indexed = ratings_test.set_index(\"user_id\")\n",
    "    changed_ratings = pd.DataFrame(columns=ratings_test.columns).set_index(\"user_id\")\n",
    "    for person_id in ratings_test[\"user_id\"].unique():\n",
    "        interacted_items_rows = ratings_test_indexed.loc[[person_id]].set_index(\"item_id\")\n",
    "        \n",
    "        currently_interacted_items_set = get_items_interacted(person_id,\n",
    "                                                                   ratings_train.set_index(\"user_id\"))\n",
    "        for item_id, row in interacted_items_rows.iterrows():\n",
    "            new_item_id = item_id\n",
    "            new_rate = row['rating']\n",
    "            if np.random.random() <= float(probability):\n",
    "                recommended_item = model.recommend_items(person_id,\n",
    "                          items_to_ignore=currently_interacted_items_set,\n",
    "                          topn=1)\n",
    "                new_item_id = recommended_item[\"item_id\"].iloc[0]\n",
    "                new_rate = recommended_item[\"rating\"].iloc[0]\n",
    "            currently_interacted_items_set.add(new_item_id)\n",
    "            changed_ratings.loc[person_id] = [new_item_id, new_rate]\n",
    "    changed_ratings[\"item_id\"] = changed_ratings[\"item_id\"].astype('int')\n",
    "    return changed_ratings.reset_index()\n"
   ],
   "metadata": {
    "collapsed": false,
    "ExecuteTime": {
     "end_time": "2024-03-18T16:47:34.928771Z",
     "start_time": "2024-03-18T16:47:34.924977Z"
    }
   },
   "id": "c446f5af422a5a6a",
   "execution_count": 56
  },
  {
   "cell_type": "code",
   "outputs": [
    {
     "name": "stderr",
     "output_type": "stream",
     "text": [
      "/tmp/ipykernel_96478/1917878580.py:20: FutureWarning: Setting an item of incompatible dtype is deprecated and will raise an error in a future version of pandas. Value '0.4884046302977379' has dtype incompatible with int64, please explicitly cast to a compatible dtype first.\n",
      "  changed_ratings.loc[person_id] = [new_item_id, new_rate]\n"
     ]
    },
    {
     "data": {
      "text/plain": "     user_id  item_id    rating\n0         70       732  0.414694\n1        324       321  0.426894\n2        664       169  0.457740\n3        864        62  0.473864\n4        556       483  0.470573\n..       ...       ...       ...\n917      129       301  0.406519\n918      300       748  0.383757\n919      810       258  0.481807\n920      247       313  0.404094\n921      701       302  0.509786\n\n[922 rows x 3 columns]",
      "text/html": "<div>\n<style scoped>\n    .dataframe tbody tr th:only-of-type {\n        vertical-align: middle;\n    }\n\n    .dataframe tbody tr th {\n        vertical-align: top;\n    }\n\n    .dataframe thead th {\n        text-align: right;\n    }\n</style>\n<table border=\"1\" class=\"dataframe\">\n  <thead>\n    <tr style=\"text-align: right;\">\n      <th></th>\n      <th>user_id</th>\n      <th>item_id</th>\n      <th>rating</th>\n    </tr>\n  </thead>\n  <tbody>\n    <tr>\n      <th>0</th>\n      <td>70</td>\n      <td>732</td>\n      <td>0.414694</td>\n    </tr>\n    <tr>\n      <th>1</th>\n      <td>324</td>\n      <td>321</td>\n      <td>0.426894</td>\n    </tr>\n    <tr>\n      <th>2</th>\n      <td>664</td>\n      <td>169</td>\n      <td>0.457740</td>\n    </tr>\n    <tr>\n      <th>3</th>\n      <td>864</td>\n      <td>62</td>\n      <td>0.473864</td>\n    </tr>\n    <tr>\n      <th>4</th>\n      <td>556</td>\n      <td>483</td>\n      <td>0.470573</td>\n    </tr>\n    <tr>\n      <th>...</th>\n      <td>...</td>\n      <td>...</td>\n      <td>...</td>\n    </tr>\n    <tr>\n      <th>917</th>\n      <td>129</td>\n      <td>301</td>\n      <td>0.406519</td>\n    </tr>\n    <tr>\n      <th>918</th>\n      <td>300</td>\n      <td>748</td>\n      <td>0.383757</td>\n    </tr>\n    <tr>\n      <th>919</th>\n      <td>810</td>\n      <td>258</td>\n      <td>0.481807</td>\n    </tr>\n    <tr>\n      <th>920</th>\n      <td>247</td>\n      <td>313</td>\n      <td>0.404094</td>\n    </tr>\n    <tr>\n      <th>921</th>\n      <td>701</td>\n      <td>302</td>\n      <td>0.509786</td>\n    </tr>\n  </tbody>\n</table>\n<p>922 rows × 3 columns</p>\n</div>"
     },
     "execution_count": 44,
     "metadata": {},
     "output_type": "execute_result"
    }
   ],
   "source": [
    "change_distribution(CFRecommender, ratings_train, ratings_test)"
   ],
   "metadata": {
    "collapsed": false,
    "ExecuteTime": {
     "end_time": "2024-03-18T16:39:09.606370Z",
     "start_time": "2024-03-18T16:38:56.058863Z"
    }
   },
   "id": "9d68d1bf6330c9ef",
   "execution_count": 44
  },
  {
   "cell_type": "code",
   "outputs": [],
   "source": [
    "class Distribution:\n",
    "    def __init__(self, rating):\n",
    "        self.fit_rating(rating)\n",
    "\n",
    "    def fit_rating(self, rating):\n",
    "        grouped_users = rating.groupby('user_id')['rating'].mean().reset_index()\n",
    "        probabilities_users = grouped_users['rating'] / grouped_users['rating'].sum()\n",
    "        self.users = pd.DataFrame({'user_id': grouped_users['user_id'], 'probability': probabilities_users})\n",
    "        grouped_items = rating.groupby('item_id')['rating'].mean().reset_index()\n",
    "        probabilities_items = grouped_items['rating'] / grouped_items['rating'].sum()\n",
    "        self.items = pd.DataFrame({'item_id': grouped_items['item_id'], 'probability': probabilities_items})\n",
    "\n",
    "    def sample_users(self, size):\n",
    "        return np.random.choice(self.users['user_id'], size=size, p=self.users['probability'])\n",
    "\n",
    "    def sample_items(self, size):\n",
    "        return np.random.choice(self.items['item_id'], size=size, p=self.items['probability'])\n",
    "\n",
    "    def plot_feature_distribution(self, ax, feature, feature_name, mode='user_id'):\n",
    "        if mode=='user_id':\n",
    "          distribution = self.users\n",
    "        elif mode=='item_id':\n",
    "          distribution = self.items\n",
    "        else:\n",
    "          return\n",
    "        merged_df = pd.merge(distribution, feature, on=mode, how='inner')\n",
    "        ax.bar(merged_df[feature_name], merged_df['probability'])\n",
    "\n",
    "    # def plot_feature_distribution(self, sample, ax, feature, feature_name, mode='user_id'):\n",
    "    #     merged_df = pd.merge(sample, feature, on=mode, how='inner')\n",
    "    #     ax.hist(merged_df[feature_name], bins=30, density=True)"
   ],
   "metadata": {
    "collapsed": false,
    "ExecuteTime": {
     "end_time": "2024-03-18T16:47:37.425056Z",
     "start_time": "2024-03-18T16:47:37.419415Z"
    }
   },
   "id": "d13ed5be523f8a81",
   "execution_count": 57
  },
  {
   "cell_type": "code",
   "outputs": [],
   "source": [
    "num_of_steps = 10\n",
    "new_ratings = ratings"
   ],
   "metadata": {
    "collapsed": false,
    "ExecuteTime": {
     "end_time": "2024-03-18T16:54:13.241232Z",
     "start_time": "2024-03-18T16:54:13.239069Z"
    }
   },
   "id": "50ff14fedddd40f7",
   "execution_count": 60
  },
  {
   "cell_type": "code",
   "outputs": [
    {
     "name": "stderr",
     "output_type": "stream",
     "text": [
      "  0%|          | 0/10 [00:00<?, ?it/s]"
     ]
    },
    {
     "data": {
      "text/plain": "<Figure size 1000x500 with 1 Axes>",
      "image/png": "[encoded data removed]"
     },
     "metadata": {},
     "output_type": "display_data"
    },
    {
     "name": "stderr",
     "output_type": "stream",
     "text": [
      " 10%|█         | 1/10 [00:31<04:41, 31.32s/it]"
     ]
    },
    {
     "name": "stdout",
     "output_type": "stream",
     "text": [
      "       user_id  item_id    rating\n",
      "0          429        73  3.000000\n",
      "1          660       201  3.000000\n",
      "2          313       542  3.000000\n",
      "3          637      1344  4.000000\n",
      "4          435       763  5.000000\n",
      "...        ...       ...       ...\n",
      "70938      133       268  0.382211\n",
      "70939       98       238  0.359465\n",
      "70940      874        13  0.408509\n",
      "70941       39       328  0.408919\n",
      "70942      571       257  0.353988\n",
      "\n",
      "[70943 rows x 3 columns]\n"
     ]
    },
    {
     "name": "stderr",
     "output_type": "stream",
     "text": [
      " 20%|██        | 2/10 [00:53<03:26, 25.80s/it]"
     ]
    },
    {
     "name": "stdout",
     "output_type": "stream",
     "text": [
      "       user_id  item_id    rating\n",
      "0           13       518  4.000000\n",
      "1          561       762  3.000000\n",
      "2          295       222  4.000000\n",
      "3          848       496  2.000000\n",
      "4          234       357  4.000000\n",
      "...        ...       ...       ...\n",
      "50596      824       258  0.395461\n",
      "50597      820       300  0.416578\n",
      "50598      571        32  2.000000\n",
      "50599      762       153  0.389581\n",
      "50600      644       300  0.546439\n",
      "\n",
      "[50601 rows x 3 columns]\n"
     ]
    },
    {
     "name": "stderr",
     "output_type": "stream",
     "text": [
      " 30%|███       | 3/10 [01:08<02:28, 21.15s/it]"
     ]
    },
    {
     "name": "stdout",
     "output_type": "stream",
     "text": [
      "       user_id  item_id    rating\n",
      "0          587       310  3.000000\n",
      "1          795        89  4.000000\n",
      "2           63       508  0.426880\n",
      "3          868       211  3.000000\n",
      "4          346        68  3.000000\n",
      "...        ...       ...       ...\n",
      "36357      631       877  2.000000\n",
      "36358       47       302  0.399186\n",
      "36359      564       302  0.393345\n",
      "36360      107       328  0.380216\n",
      "36361      762       286  0.406346\n",
      "\n",
      "[36362 rows x 3 columns]\n"
     ]
    },
    {
     "name": "stderr",
     "output_type": "stream",
     "text": [
      " 40%|████      | 4/10 [01:22<01:48, 18.05s/it]"
     ]
    },
    {
     "name": "stdout",
     "output_type": "stream",
     "text": [
      "       user_id  item_id    rating\n",
      "0          215       179  4.000000\n",
      "1          171       315  4.000000\n",
      "2          853       748  2.000000\n",
      "3          347       298  5.000000\n",
      "4          221       240  4.000000\n",
      "...        ...       ...       ...\n",
      "26382      691       427  0.337709\n",
      "26383       19        64  0.323799\n",
      "26384      657       258  0.365988\n",
      "26385      849       257  0.303065\n",
      "26386      857       269  0.336281\n",
      "\n",
      "[26387 rows x 3 columns]\n"
     ]
    },
    {
     "data": {
      "text/plain": "<Figure size 1000x500 with 1 Axes>",
      "image/png": "[encoded data removed]"
     },
     "metadata": {},
     "output_type": "display_data"
    },
    {
     "name": "stderr",
     "output_type": "stream",
     "text": [
      " 50%|█████     | 5/10 [01:33<01:18, 15.61s/it]"
     ]
    },
    {
     "name": "stdout",
     "output_type": "stream",
     "text": [
      "       user_id  item_id    rating\n",
      "0          606       138  3.000000\n",
      "1          889      1014  2.000000\n",
      "2          187       660  5.000000\n",
      "3          938      1254  1.000000\n",
      "4          344       301  4.000000\n",
      "...        ...       ...       ...\n",
      "19380      888       423  0.354940\n",
      "19381      350       210  0.398620\n",
      "19382      384       328  0.324156\n",
      "19383      801       258  0.392514\n",
      "19384      662        14  0.366177\n",
      "\n",
      "[19385 rows x 3 columns]\n"
     ]
    },
    {
     "name": "stderr",
     "output_type": "stream",
     "text": [
      " 60%|██████    | 6/10 [01:39<00:50, 12.51s/it]"
     ]
    },
    {
     "name": "stdout",
     "output_type": "stream",
     "text": [
      "       user_id  item_id    rating\n",
      "0          293       924  2.000000\n",
      "1          471       172  0.304168\n",
      "2           97       168  4.000000\n",
      "3          308        24  4.000000\n",
      "4          747       215  5.000000\n",
      "...        ...       ...       ...\n",
      "14466      760       300  0.289000\n",
      "14467      202         1  0.261836\n",
      "14468      759       333  0.347133\n",
      "14469        4       300  0.314244\n",
      "14470      547       300  0.283640\n",
      "\n",
      "[14471 rows x 3 columns]\n"
     ]
    },
    {
     "name": "stderr",
     "output_type": "stream",
     "text": [
      " 70%|███████   | 7/10 [01:44<00:30, 10.01s/it]"
     ]
    },
    {
     "name": "stdout",
     "output_type": "stream",
     "text": [
      "       user_id  item_id    rating\n",
      "0          386       118  3.000000\n",
      "1           99       123  3.000000\n",
      "2          943       508  0.396836\n",
      "3          279       165  4.000000\n",
      "4          291       214  4.000000\n",
      "...        ...       ...       ...\n",
      "10988      388       302  0.248679\n",
      "10989       19       496  0.222773\n",
      "10990      260         1  0.231471\n",
      "10991      367       288  5.000000\n",
      "10992      574       286  0.267852\n",
      "\n",
      "[10993 rows x 3 columns]\n"
     ]
    },
    {
     "name": "stderr",
     "output_type": "stream",
     "text": [
      " 80%|████████  | 8/10 [01:48<00:16,  8.11s/it]"
     ]
    },
    {
     "name": "stdout",
     "output_type": "stream",
     "text": [
      "      user_id  item_id    rating\n",
      "0         496       402  0.366618\n",
      "1         637       300  0.231212\n",
      "2          18       435  4.000000\n",
      "3         269       137  4.000000\n",
      "4         629       886  3.000000\n",
      "...       ...       ...       ...\n",
      "8543      728       511  0.012802\n",
      "8544      611       269  0.010899\n",
      "8545      206       286  0.013162\n",
      "8546      530       318  0.012755\n",
      "8547      300       496  0.011675\n",
      "\n",
      "[8548 rows x 3 columns]\n"
     ]
    },
    {
     "data": {
      "text/plain": "<Figure size 1000x500 with 1 Axes>",
      "image/png": "[encoded data removed]"
     },
     "metadata": {},
     "output_type": "display_data"
    },
    {
     "name": "stderr",
     "output_type": "stream",
     "text": [
      " 90%|█████████ | 9/10 [01:53<00:06,  6.94s/it]"
     ]
    },
    {
     "name": "stdout",
     "output_type": "stream",
     "text": [
      "      user_id  item_id    rating\n",
      "0         543      1159  5.000000\n",
      "1          42        95  0.366289\n",
      "2         363       588  2.000000\n",
      "3         302       286  0.263612\n",
      "4         747       659  4.000000\n",
      "...       ...       ...       ...\n",
      "6793      623       181  0.006225\n",
      "6794      546        56  0.006456\n",
      "6795      761       222  0.006618\n",
      "6796      372         4  0.006632\n",
      "6797      550       682  4.000000\n",
      "\n",
      "[6798 rows x 3 columns]\n"
     ]
    },
    {
     "name": "stderr",
     "output_type": "stream",
     "text": [
      "100%|██████████| 10/10 [01:56<00:00, 11.63s/it]"
     ]
    },
    {
     "name": "stdout",
     "output_type": "stream",
     "text": [
      "      user_id  item_id       rating\n",
      "0         738       188     3.000000\n",
      "1         832       258     0.010834\n",
      "2         689       275     0.006183\n",
      "3          71       222     0.354934\n",
      "4         292       200     0.287247\n",
      "...       ...       ...          ...\n",
      "5540      941       257     0.002247\n",
      "5541      377       313     0.002575\n",
      "5542       84       357     0.002895\n",
      "5543      768       357     0.003165\n",
      "5544      143       302  1713.071239\n",
      "\n",
      "[5545 rows x 3 columns]\n"
     ]
    },
    {
     "name": "stderr",
     "output_type": "stream",
     "text": [
      "\n"
     ]
    }
   ],
   "source": [
    "for i in tqdm(range(1, num_of_steps + 1)):\n",
    "    current_distr = Distribution(new_ratings)\n",
    "    if i in np.arange(1, num_of_steps, 4):\n",
    "        plt.figure(figsize=(10, 5))\n",
    "        current_distr.plot_feature_distribution(ax = plt.gca(), feature=users[[\"user_id\", \"age\"]], feature_name=\"age\")\n",
    "        plt.show()\n",
    "    new_ratings_train, new_ratings_test = train_test_split(new_ratings, test_size=0.3, shuffle=True)\n",
    "    new_ratings_test = change_distribution(CFRecommender, new_ratings_train, new_ratings_test)\n",
    "    new_ratings = pd.concat([new_ratings_train, new_ratings_test], ignore_index=True)\n",
    "    print(len(new_ratings))"
   ],
   "metadata": {
    "collapsed": false,
    "ExecuteTime": {
     "end_time": "2024-03-18T16:56:09.893337Z",
     "start_time": "2024-03-18T16:54:13.602006Z"
    }
   },
   "id": "8fa75dfa2f130bd1",
   "execution_count": 61
  },
  {
   "cell_type": "code",
   "outputs": [],
   "source": [],
   "metadata": {
    "collapsed": false
   },
   "id": "ade7ef302a2aaa38"
  }
 ],
 "metadata": {
  "kernelspec": {
   "display_name": "Python 3",
   "language": "python",
   "name": "python3"
  },
  "language_info": {
   "codemirror_mode": {
    "name": "ipython",
    "version": 2
   },
   "file_extension": ".py",
   "mimetype": "text/x-python",
   "name": "python",
   "nbconvert_exporter": "python",
   "pygments_lexer": "ipython2",
   "version": "2.7.6"
  }
 },
 "nbformat": 4,
 "nbformat_minor": 5
}
