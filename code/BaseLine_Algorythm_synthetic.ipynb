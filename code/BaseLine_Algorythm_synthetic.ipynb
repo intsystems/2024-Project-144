{
 "cells": [
  {
   "cell_type": "code",
   "outputs": [],
   "source": [
    "import scipy.stats as sps\n",
    "import numpy as np\n",
    "import math\n",
    "import random\n",
    "import sklearn\n",
    "from sklearn.metrics import mean_squared_error\n",
    "\n",
    "from scipy.sparse import csr_matrix\n",
    "from sklearn.model_selection import train_test_split\n",
    "from sklearn.feature_extraction.text import TfidfVectorizer\n",
    "from sklearn.metrics.pairwise import cosine_similarity\n",
    "from scipy.sparse.linalg import svds\n",
    "from sklearn.preprocessing import MinMaxScaler\n",
    "import matplotlib.pyplot as plt\n",
    "import scipy\n",
    "from tqdm import tqdm\n",
    "\n",
    "from libmf import mf"
   ],
   "metadata": {
    "collapsed": false
   },
   "id": "bbd6a2fce7a4d144"
  },
  {
   "cell_type": "code",
   "outputs": [],
   "source": [
    "def usefulness(c, w, noice):\n",
    "    return np.arctan(c - w + noice) / np.pi + 0.5"
   ],
   "metadata": {
    "collapsed": false
   },
   "id": "8d87c0c507c6ae84"
  },
  {
   "cell_type": "code",
   "outputs": [],
   "source": [
    "customer_distribution = sps.norm(0.6, 0.2)\n",
    "w_distribution = sps.norm(0, 0.4)\n",
    "\n",
    "epsilon = sps.norm(0, 0.05)"
   ],
   "metadata": {
    "collapsed": false
   },
   "id": "96bf4afb6c6397ed"
  },
  {
   "cell_type": "code",
   "outputs": [],
   "source": [
    "class DegeneracyEvaluator:\n",
    "    def fit_distribution(self, sample):\n",
    "        features, frequency = np.unique(sample, return_counts=True)\n",
    "        self.model.fit(features, frequency)\n",
    "    def __init__(self, sample):\n",
    "        self.model = sklearn.linear_model.LinearRegression()\n",
    "        self.fit_distribution(sample)\n",
    "        \n",
    "    def score_prediction(self, sample):\n",
    "        features, frequency = np.unique(sample, return_counts=True)\n",
    "        frequency_pred = self.model.predict(features)\n",
    "        return mean_squared_error(frequency, frequency_pred)"
   ],
   "metadata": {
    "collapsed": false,
    "ExecuteTime": {
     "end_time": "2024-03-20T19:27:10.956873Z",
     "start_time": "2024-03-20T19:27:10.943444Z"
    }
   },
   "id": "d8635e6e79ba5898",
   "execution_count": 1
  },
  {
   "cell_type": "code",
   "outputs": [],
   "source": [
    "def dynamic_system_iterate(customer_distribution, w_distribution, c_size, w_size, model, degerancy_evaluator):\n",
    "    sample_customer = customer_distribution.rvs(size=c_size)\n",
    "    sample_w = w_distribution.rvs(size=w_size)\n",
    "    new_feedback = []\n",
    "    for customer in sample_customer:\n",
    "        w_offered = np.array() # тут надо положить то что вернула модель для данного пользователя\n",
    "        for w in w_offered:\n",
    "            deal = sps.bernoulli.rvs(usefulness(customer, w, epsilon.rvs())) # моделируем сделки\n",
    "            new_feedback.append((customer, w, deal))\n",
    "    ## сделать фит в scipy.stats.rv_continuous и в return уже новое распределение\n",
    "    return customer_distribution, w_distribution, new_feedback"
   ],
   "metadata": {
    "collapsed": false
   },
   "id": "96fd2ff010afef87"
  },
  {
   "cell_type": "code",
   "outputs": [],
   "source": [],
   "metadata": {
    "collapsed": false
   },
   "id": "19bb5d3dd61de068"
  }
 ],
 "metadata": {
  "kernelspec": {
   "display_name": "Python 3",
   "language": "python",
   "name": "python3"
  },
  "language_info": {
   "codemirror_mode": {
    "name": "ipython",
    "version": 2
   },
   "file_extension": ".py",
   "mimetype": "text/x-python",
   "name": "python",
   "nbconvert_exporter": "python",
   "pygments_lexer": "ipython2",
   "version": "2.7.6"
  },
  "colab": {
   "provenance": []
  }
 },
 "nbformat": 4,
 "nbformat_minor": 5
}
