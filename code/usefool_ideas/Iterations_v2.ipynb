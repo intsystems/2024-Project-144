{
 "cells": [
  {
   "cell_type": "code",
   "id": "initial_id",
   "metadata": {
    "collapsed": true,
    "ExecuteTime": {
     "end_time": "2024-04-18T09:41:03.403016Z",
     "start_time": "2024-04-18T09:41:03.379419Z"
    }
   },
   "source": [
    "import scipy.stats as sps\n",
    "from scipy.interpolate import interp1d\n",
    "import numpy as np\n",
    "\n",
    "import pandas as pd\n",
    "import matplotlib.pyplot as plt\n",
    "import seaborn as sns\n",
    "from models.CMF_Predictor import CMFRecommender\n",
    "from tqdm import tqdm\n",
    "from libmf import mf"
   ],
   "execution_count": 2,
   "outputs": []
  },
  {
   "metadata": {},
   "cell_type": "markdown",
   "source": "",
   "id": "5b2c2bfc3a9dbaff"
  },
  {
   "cell_type": "code",
   "source": [
    "def usefulness(c, w, noice):\n",
    "    # return 1\n",
    "    # return np.arctan(c - w + noice) / np.pi + 0.5\n",
    "    return np.sin(c - w + noice) / 2 + 1"
   ],
   "metadata": {
    "collapsed": false,
    "ExecuteTime": {
     "end_time": "2024-04-18T09:41:04.257693Z",
     "start_time": "2024-04-18T09:41:04.253830Z"
    }
   },
   "id": "55dfca8f998a51a5",
   "execution_count": 3,
   "outputs": []
  },
  {
   "metadata": {
    "ExecuteTime": {
     "end_time": "2024-04-18T09:41:04.816624Z",
     "start_time": "2024-04-18T09:41:04.814630Z"
    }
   },
   "cell_type": "code",
   "source": "",
   "id": "fff67cbbd90f0072",
   "execution_count": 3,
   "outputs": []
  },
  {
   "cell_type": "code",
   "source": [
    "customer_distribution = sps.norm(0.6, 0.2)\n",
    "w_distribution = sps.norm(0, 0.4)\n",
    "\n",
    "epsilon = sps.norm(0, 0.05)\n",
    "\n",
    "\n",
    "class Distribution_Handler:\n",
    "    def __init__(self, distribution):\n",
    "        self.distribution = distribution\n",
    "\n",
    "    def rvs(self, size=1):\n",
    "        if issubclass(type(self.distribution), sps.rv_continuous):\n",
    "            return self.distribution.rvs(size)\n",
    "        else:\n",
    "            return self.distribution.resample(size)[0]\n"
   ],
   "metadata": {
    "collapsed": false,
    "ExecuteTime": {
     "end_time": "2024-04-18T09:41:11.700793Z",
     "start_time": "2024-04-18T09:41:11.696421Z"
    }
   },
   "id": "70b1cac38b3c3832",
   "execution_count": 4,
   "outputs": []
  },
  {
   "cell_type": "code",
   "source": [
    "def interpol_distribution(sample, bins=30):\n",
    "    hst = np.histogram(sample, density=True, bins=bins)\n",
    "    return interp1d(hst[1][:-1], hst[0], kind='linear',\n",
    "                    fill_value=0.0, bounds_error=False)"
   ],
   "metadata": {
    "collapsed": false,
    "ExecuteTime": {
     "end_time": "2024-04-18T09:41:12.947077Z",
     "start_time": "2024-04-18T09:41:12.944355Z"
    }
   },
   "id": "33d403b6405cea84",
   "execution_count": 5,
   "outputs": []
  },
  {
   "cell_type": "code",
   "source": [
    "def zero_step(model: CMFRecommender, user_info, item_info, topn=52):\n",
    "    new_feedback = []\n",
    "\n",
    "    maximal_user, maximal_item = model.get_max_index()\n",
    "    old_users = model.get_known_users_info().set_index(\"UserId\")\n",
    "    old_items = model.get_known_items_info().set_index(\"ItemId\")\n",
    "    for i in range(topn):\n",
    "        user_id = np.random.choice(round(maximal_user) - 1)\n",
    "        for index, item_row in item_info.iterrows():\n",
    "            deal = sps.bernoulli.rvs(\n",
    "                usefulness(old_users.loc[user_id][\"F\"], item_row[\"F\"], epsilon.rvs()))  # моделируем сделки\n",
    "            new_feedback.append((user_id, item_row[\"ItemId\"], deal))\n",
    "    for index, user_row in user_info.iterrows():\n",
    "        w_offered = model.recommend_items_cold(user_row[\"F\"], topn)[\"ItemId\"]\n",
    "        for w in w_offered:\n",
    "            if not(w in old_items.index.values):\n",
    "                feature = item_info.loc[item_info.ItemId == w][\"F\"]\n",
    "            else:\n",
    "                feature = old_items.loc[w][\"F\"]\n",
    "            deal = sps.bernoulli.rvs(usefulness(user_row[\"F\"], feature, epsilon.rvs()))  # моделируем сделки\n",
    "            \n",
    "            new_feedback.append((user_row[\"UserId\"], w, deal))\n",
    "            \n",
    "\n",
    "    model.retrain(new_feedback, user_info, item_info)\n",
    "    return model\n"
   ],
   "metadata": {
    "collapsed": false,
    "ExecuteTime": {
     "end_time": "2024-04-18T09:41:15.376974Z",
     "start_time": "2024-04-18T09:41:15.372466Z"
    }
   },
   "id": "15c9afdeb2e5f9a5",
   "execution_count": 6,
   "outputs": []
  },
  {
   "cell_type": "code",
   "source": [
    "def print_distributions(num_of_iteration, axs, user_info, item_info):\n",
    "    sns.kdeplot(user_info[\"F\"], ax=axs[0], label=f\"Itration number = {num_of_iteration}\")\n",
    "    axs[0].set_title(\"User Distribution\")\n",
    "    sns.kdeplot(data=item_info[\"F\"], ax=axs[1])\n",
    "    axs[1].set_title(\"Item Distribution\")"
   ],
   "metadata": {
    "collapsed": false,
    "ExecuteTime": {
     "end_time": "2024-04-18T09:41:15.846275Z",
     "start_time": "2024-04-18T09:41:15.843220Z"
    }
   },
   "id": "8057186e13499a46",
   "execution_count": 7,
   "outputs": []
  },
  {
   "cell_type": "code",
   "source": [
    "def dynamic_system_iterate(model, customer_distribution, w_distribution, c_size=10, w_size=10,\n",
    "                           num_of_steps=5,\n",
    "                           topn=1, delta=1e-4, visualize_distributions=None):\n",
    "    maximal_user, maximal_item = model.get_max_index()\n",
    "    user_info = pd.DataFrame(\n",
    "        {\"F\": customer_distribution.rvs(size=c_size)})  # size = (c_size, c_feature_size) в многомерном случае \n",
    "    user_info[\"UserId\"] = np.arange(maximal_user + 1, maximal_user + 1 + c_size)\n",
    "    \n",
    "    item_info = pd.DataFrame(\n",
    "        {\"F\": w_distribution.rvs(size=w_size)})  # size = (w_size, w_feature_size) в многомерном случае \n",
    "    item_info[\"ItemId\"] = np.arange(maximal_item + 1, maximal_item + 1 + w_size)\n",
    "    model = zero_step(model, user_info, item_info, topn=topn)\n",
    "\n",
    "    if visualize_distributions is not None:\n",
    "        print_distributions(visualize_distributions[0], visualize_distributions[1], user_info, item_info)\n",
    "\n",
    "    new_feedback = []\n",
    "    old_users = model.get_known_users_info().set_index(\"UserId\")\n",
    "    old_items = model.get_known_items_info().set_index(\"ItemId\")\n",
    "    \n",
    "    for step in range(1, num_of_steps + 1):\n",
    "        counter = 0\n",
    "        for index, user_row in user_info.iterrows():\n",
    "            w_offered = model.recommend_items(user_row[\"UserId\"], item_info['ItemId'], topn=topn, exclude_rated=True)[\n",
    "                \"ItemId\"]\n",
    "            for w in w_offered:\n",
    "                if not(w in old_items.index.values):\n",
    "                    feature = item_info.loc[item_info.ItemId == w][\"F\"]\n",
    "                else:\n",
    "                    feature = old_items.loc[w][\"F\"]\n",
    "                deal = sps.bernoulli.rvs(usefulness(user_row[\"F\"], feature, epsilon.rvs()))  # моделируем сделки\n",
    "                counter += deal\n",
    "                new_feedback.append((user_row[\"UserId\"], w, deal))\n",
    "\n",
    "        model.retrain(new_feedback, [], [])\n",
    "\n",
    "    # смена распределения\n",
    "    # print(user_info['Feedback'])\n",
    "    new_feedback_df = pd.DataFrame(new_feedback, columns=['UserId', 'ItemId', 'Feedback'])\n",
    "    metr = new_feedback_df.groupby('UserId')['Feedback'].mean().reset_index()\n",
    "    \n",
    "    grouped_users = new_feedback_df.groupby('UserId')['Feedback'].mean().reset_index()\n",
    "    grouped_users['Feedback'] += delta\n",
    "    \n",
    "    user_info = user_info.merge(grouped_users, how=\"inner\", on='UserId')\n",
    "    customer_distribution = Distribution_Handler(sps.gaussian_kde(user_info[\"F\"], bw_method=.105, weights=user_info['Feedback']))\n",
    "    grouped_items = new_feedback_df.groupby('ItemId')['Feedback'].mean().reset_index()\n",
    "\n",
    "\n",
    "    item_info = item_info.merge(grouped_items, how=\"left\", on='ItemId').fillna(0)\n",
    "    item_info['Feedback'] += delta\n",
    "    \n",
    "    w_distribution = Distribution_Handler(sps.gaussian_kde(item_info[\"F\"], bw_method=.09,weights=item_info['Feedback']))\n",
    "    \n",
    "    return customer_distribution, w_distribution, metr\n",
    "\n"
   ],
   "metadata": {
    "collapsed": false,
    "ExecuteTime": {
     "end_time": "2024-04-17T07:56:02.388062Z",
     "start_time": "2024-04-17T07:56:02.379062Z"
    }
   },
   "id": "4c86e4614c7d846e",
   "execution_count": 7,
   "outputs": []
  },
  {
   "cell_type": "code",
   "source": [
    "start_c_size = 100\n",
    "start_w_size = 100\n",
    "\n",
    "user_info = pd.DataFrame({\"F\": customer_distribution.rvs(size=start_c_size)})  # генерим датасет для нулевой итерации\n",
    "user_info[\"UserId\"] = np.arange(start_c_size)\n",
    "\n",
    "item_info = pd.DataFrame({\"F\": w_distribution.rvs(size=start_w_size)})\n",
    "item_info[\"ItemId\"] = np.arange(start_w_size)\n",
    "feedback = []\n",
    "\n",
    "# print_distributions(0, axs,user_info, item_info)\n",
    "\n",
    "for i, user_row in user_info.iterrows():\n",
    "    for j, item_row in item_info.iterrows():\n",
    "        deal = sps.bernoulli.rvs(usefulness(user_row[\"F\"], item_row[\"F\"], epsilon.rvs()))\n",
    "        feedback.append((user_row[\"UserId\"], item_row[\"ItemId\"], deal))"
   ],
   "metadata": {
    "collapsed": false,
    "ExecuteTime": {
     "end_time": "2024-04-17T07:56:03.866398Z",
     "start_time": "2024-04-17T07:56:02.796894Z"
    }
   },
   "id": "5144e4c9f8cb8f53",
   "execution_count": 8,
   "outputs": []
  },
  {
   "cell_type": "code",
   "source": [
    "model = CMFRecommender(capacity=11000, num_of_factors=140)\n",
    "model.fit(feedback, user_info, item_info)"
   ],
   "metadata": {
    "collapsed": false,
    "ExecuteTime": {
     "end_time": "2024-04-17T07:56:05.499605Z",
     "start_time": "2024-04-17T07:56:03.867207Z"
    }
   },
   "id": "221f6c513d7841ab",
   "execution_count": 9,
   "outputs": []
  },
  {
   "cell_type": "code",
   "source": [
    "new_cust_distr, new_w_distr = customer_distribution, w_distribution"
   ],
   "metadata": {
    "collapsed": false,
    "ExecuteTime": {
     "end_time": "2024-04-17T07:56:05.511255Z",
     "start_time": "2024-04-17T07:56:05.503938Z"
    }
   },
   "id": "993fb963881b2f8e",
   "execution_count": 10,
   "outputs": []
  },
  {
   "cell_type": "code",
   "source": [
    " # new_cust_distr, new_w_distr, _ = dynamic_system_iterate(model, new_cust_distr, new_w_distr, c_size=10, w_size=10, visualize_distributions=True)"
   ],
   "metadata": {
    "collapsed": false,
    "ExecuteTime": {
     "end_time": "2024-04-16T13:29:24.855394Z",
     "start_time": "2024-04-16T13:29:24.853236Z"
    }
   },
   "id": "b86729505ddf9956",
   "execution_count": 11,
   "outputs": []
  },
  {
   "cell_type": "code",
   "source": [
    "c_size = 128\n",
    "w_size = 128\n",
    "big_steps = 50\n",
    "hit_metrics = []\n",
    "curr_hit = 0\n",
    "fig, axs = plt.subplots(ncols=2)\n",
    "for i in tqdm(range(big_steps)):\n",
    "    if i % 5 == 0:\n",
    "        new_cust_distr, new_w_distr, current_metr_distr = dynamic_system_iterate(model, new_cust_distr, new_w_distr, c_size=c_size,\n",
    "                                                                   w_size=w_size, num_of_steps=3, visualize_distributions=(i, axs))\n",
    "        plt.figure(figsize=(7,7))\n",
    "        plt.hist(current_metr_distr[\"Feedback\"], density=True)\n",
    "    else:\n",
    "        new_cust_distr, new_w_distr, current_metr_distr = dynamic_system_iterate(model, new_cust_distr, new_w_distr, c_size=c_size,\n",
    "                                                                       w_size=w_size, num_of_steps=3, visualize_distributions=None)\n",
    "    hit_metrics.append(curr_hit)\n",
    "\n",
    "fig.legend(loc='center left', bbox_to_anchor=(1, 0.5))\n",
    "fig.show()"
   ],
   "metadata": {
    "collapsed": false,
    "ExecuteTime": {
     "start_time": "2024-04-16T13:29:25.126924Z"
    }
   },
   "id": "e0a9608907e22999",
   "execution_count": null,
   "outputs": []
  },
  {
   "cell_type": "code",
   "source": [
    "plt.plot(np.arange(big_steps), hit_metrics)"
   ],
   "metadata": {
    "collapsed": false
   },
   "id": "6246fdf9ed6b96a0",
   "execution_count": null,
   "outputs": []
  },
  {
   "cell_type": "code",
   "source": [
    "big_steps = 50\n",
    "hit_metrics = []\n",
    "curr_hit = 0\n",
    "fig, axs = plt.subplots(ncols=2)\n",
    "for i in tqdm(range(big_steps)):\n",
    "    # if (i + 1) % 5 == 0:\n",
    "    new_cust_distr, new_w_distr, curr_hit = dynamic_system_iterate(model, new_cust_distr, new_w_distr,\n",
    "                                                                   c_size=50, w_size=100, visualize_distributions=(i, axs))\n",
    "    # else:\n",
    "    #     new_cust_distr, new_w_distr, curr_hit = dynamic_system_iterate(i, axs, model, new_cust_distr, new_w_distr, c_size=50,\n",
    "    #                                                                    w_size=50, visualize_distributions=False)\n",
    "    hit_metrics.append(curr_hit)\n",
    "\n"
   ],
   "metadata": {
    "collapsed": false
   },
   "id": "46710bc77b69bbc2",
   "execution_count": null,
   "outputs": []
  },
  {
   "cell_type": "code",
   "source": [
    "plt.plot(np.arange(big_steps - 1), hit_metrics)"
   ],
   "metadata": {
    "collapsed": false
   },
   "id": "9352256a56ea7a95",
   "execution_count": null,
   "outputs": []
  },
  {
   "cell_type": "code",
   "source": [
    "def dynamic_system_iterate_CB(model: ContentBasedRecommender, customer_distribution, w_distribution, c_size=10, w_size=10,\n",
    "                           num_of_steps=1,\n",
    "                           topn=10, delta=0.00001, visualize_distributions=None):\n",
    "    maximal_user, maximal_item = model.get_max_index()\n",
    "    user_info = pd.DataFrame(\n",
    "        {\"F\": customer_distribution.rvs(size=c_size)})  # size = (c_size, c_feature_size) в многомерном случае \n",
    "    user_info[\"UserId\"] = np.arange(maximal_user + 1, maximal_user + 1 + c_size)\n",
    "\n",
    "    item_info = pd.DataFrame(\n",
    "        {\"F\": w_distribution.rvs(size=w_size)})  # size = (w_size, w_feature_size) в многомерном случае \n",
    "    item_info[\"ItemId\"] = np.arange(w_size)\n",
    "    \n",
    "    print(item_info)\n",
    "    # model = zero_step_CB(model, user_info, item_info, topn=topn)\n",
    "\n",
    "    if visualize_distributions is not None:\n",
    "        print_distributions(visualize_distributions[0], visualize_distributions[1], user_info, item_info)\n",
    "\n",
    "    new_feedback = []\n",
    "    \n",
    "    \n",
    "    for step in range(1, num_of_steps + 1):\n",
    "        counter = 0\n",
    "        for index, user_row in user_info.iterrows():\n",
    "            w_offered = model.recommend_items_new(user_row[\"F\"], item_info[[\"F\"]], topn=topn)[\n",
    "                \"ItemId\"]\n",
    "            for w in w_offered:\n",
    "                deal = sps.bernoulli.rvs(usefulness(user_row[\"F\"], w, epsilon.rvs()))  # моделируем сделки\n",
    "                counter += deal\n",
    "                new_feedback.append((user_row[\"UserId\"], w, deal))\n",
    "        \n",
    "        model.retrain(new_feedback, [], [])\n",
    "\n",
    "    # смена распределения\n",
    "    new_feedback_df = pd.DataFrame(new_feedback, columns=['UserId', 'ItemId', 'Feedback'])\n",
    "    new_feedback_df[\"Feedback\"] += delta\n",
    "    grouped_users = new_feedback_df.groupby('UserId')['Feedback'].mean().reset_index()\n",
    "\n",
    "    user_info = user_info.merge(grouped_users, how=\"inner\", on='UserId')\n",
    "\n",
    "    customer_distribution = Distribution_Handler(sps.gaussian_kde(user_info[\"F\"], weights=user_info['Feedback']))\n",
    "    grouped_items = new_feedback_df.groupby('ItemId')['Feedback'].mean().reset_index()\n",
    "    # grouped_items['Feedback'] += delta\n",
    "\n",
    "    item_info = item_info.merge(grouped_items, how=\"inner\", on='ItemId')\n",
    "\n",
    "    w_distribution = Distribution_Handler(sps.gaussian_kde(item_info[\"F\"], weights=item_info['Feedback']))\n",
    "\n",
    "    return customer_distribution, w_distribution, float(counter) / c_size\n",
    "\n"
   ],
   "metadata": {
    "collapsed": false
   },
   "id": "f8b625b434d4288e",
   "execution_count": null,
   "outputs": []
  },
  {
   "cell_type": "code",
   "source": [
    "model = ContentBasedRecommender(capacity=30000, num_of_factors=50)\n",
    "model.fit(feedback, user_info, item_info)"
   ],
   "metadata": {
    "collapsed": false
   },
   "id": "972f445efdfa54a3",
   "execution_count": null,
   "outputs": []
  },
  {
   "cell_type": "code",
   "source": [
    "new_cust_distr, new_w_distr = customer_distribution, w_distribution\n",
    "big_steps = 2\n",
    "hit_metrics = []\n",
    "curr_hit = 0\n",
    "fig, axs = plt.subplots(ncols=2)\n",
    "for i in tqdm(range(big_steps)):\n",
    "    if (i + 1) % 5 == 0:\n",
    "        new_cust_distr, new_w_distr, curr_hit = dynamic_system_iterate_CB(model, new_cust_distr, new_w_distr, c_size=50,\n",
    "                                                                       w_size=50, num_of_steps=3,\n",
    "                                                                       visualize_distributions=(i, axs))\n",
    "    else:\n",
    "        new_cust_distr, new_w_distr, curr_hit = dynamic_system_iterate_CB(model, new_cust_distr, new_w_distr, c_size=50,\n",
    "                                                                       w_size=50, num_of_steps=3,\n",
    "                                                                       visualize_distributions=None)\n",
    "    hit_metrics.append(curr_hit)\n",
    "\n",
    "fig.legend(loc='center left', bbox_to_anchor=(1, 0.5))\n",
    "fig.show()"
   ],
   "metadata": {
    "collapsed": false,
    "ExecuteTime": {
     "end_time": "2024-03-28T13:07:15.091648Z",
     "start_time": "2024-03-28T13:07:14.856208Z"
    }
   },
   "id": "483725c7be540295",
   "execution_count": 181,
   "outputs": []
  },
  {
   "cell_type": "code",
   "source": [],
   "metadata": {
    "collapsed": false,
    "ExecuteTime": {
     "end_time": "2024-03-28T13:07:15.092783Z",
     "start_time": "2024-03-28T13:07:15.092684Z"
    }
   },
   "id": "c2ad52ba5bc27b67",
   "execution_count": null,
   "outputs": []
  },
  {
   "cell_type": "code",
   "source": [
    "size = 1024*16\n",
    "data = sps.norm.rvs(0, 1, size)\n"
   ],
   "metadata": {
    "collapsed": false,
    "ExecuteTime": {
     "end_time": "2024-04-17T07:54:11.294502Z",
     "start_time": "2024-04-17T07:54:11.291866Z"
    }
   },
   "id": "47527ac6aa82f9a2",
   "execution_count": 25,
   "outputs": []
  },
  {
   "cell_type": "code",
   "source": [
    "pdf = interpol_distribution(data, bins=20)\n",
    "x = np.linspace(-5, 5, 300)\n",
    "plt.plot(x, pdf(x))\n",
    "sns.kdeplot(data)"
   ],
   "metadata": {
    "collapsed": false,
    "ExecuteTime": {
     "end_time": "2024-04-17T07:54:11.953490Z",
     "start_time": "2024-04-17T07:54:11.940948Z"
    }
   },
   "id": "a8b04996e0c99a15",
   "execution_count": 26,
   "outputs": []
  },
  {
   "cell_type": "code",
   "source": [
    "def get_resample(data):\n",
    "    distr = sps.gaussian_kde(data)\n",
    "    return distr.resample(size)[0]"
   ],
   "metadata": {
    "collapsed": false,
    "ExecuteTime": {
     "end_time": "2024-04-17T07:54:12.701880Z",
     "start_time": "2024-04-17T07:54:12.696788Z"
    }
   },
   "id": "5494cabf5d4cc46",
   "execution_count": 27,
   "outputs": []
  },
  {
   "cell_type": "code",
   "source": [
    "fig, ax = plt.subplots(1, figsize=(10, 10))\n",
    "data_new = data\n",
    "for i in range(100):\n",
    "    data_new = get_resample(data_new)\n",
    "    if i % 20 == 0:\n",
    "        sns.kdeplot(data_new, ax=ax, label=f\"Itration number = {i}\")\n",
    "plt.legend()\n",
    "plt.show()"
   ],
   "metadata": {
    "collapsed": false,
    "ExecuteTime": {
     "end_time": "2024-04-17T07:54:15.110388Z",
     "start_time": "2024-04-17T07:54:13.206981Z"
    }
   },
   "id": "b921f669930c85f1",
   "execution_count": 28,
   "outputs": []
  },
  {
   "cell_type": "code",
   "source": [
    "def rand_dist(x, pdf, nvals):\n",
    "    \"\"\"Produce nvals random samples from pdf(x), assuming constant spacing in x.\"\"\"\n",
    "\n",
    "    # get cumulative distribution from 0 to 1\n",
    "    cumpdf = np.cumsum(pdf)\n",
    "    cumpdf *= 1/cumpdf[-1]\n",
    "\n",
    "    # input random values\n",
    "    randv = np.random.uniform(size=nvals)\n",
    "\n",
    "    # find where random values would go\n",
    "    idx1 = np.searchsorted(cumpdf, randv)\n",
    "    # get previous value, avoiding division by zero below\n",
    "    idx0 = np.where(idx1==0, 0, idx1-1)\n",
    "    idx1[idx0==0] = 1\n",
    "\n",
    "    # do linear interpolation in x\n",
    "    frac1 = (randv - cumpdf[idx0]) / (cumpdf[idx1] - cumpdf[idx0])\n",
    "    randdist = x[idx0]*(1-frac1) + x[idx1]*frac1\n",
    "\n",
    "    return randdist"
   ],
   "metadata": {
    "collapsed": false,
    "ExecuteTime": {
     "end_time": "2024-04-02T17:11:54.513030Z",
     "start_time": "2024-04-02T17:11:54.509967Z"
    }
   },
   "id": "c910421d61005fa0",
   "execution_count": 57,
   "outputs": []
  },
  {
   "cell_type": "code",
   "source": [
    "\n",
    "def get_resample_norm(data):\n",
    "    pdf = interpol_distribution(data)\n",
    "    x = np.linspace(-3, 3, 10000)\n",
    "    return rand_dist(x, pdf(x), len(data))"
   ],
   "metadata": {
    "collapsed": false,
    "ExecuteTime": {
     "end_time": "2024-04-02T17:14:31.488500Z",
     "start_time": "2024-04-02T17:14:31.480240Z"
    }
   },
   "id": "cc0692d22c84bfd3",
   "execution_count": 66,
   "outputs": []
  },
  {
   "cell_type": "code",
   "source": [
    "fig, ax = plt.subplots(1, figsize=(10, 10))\n",
    "data_new = data\n",
    "for i in range(100):\n",
    "    data_new = get_resample_norm(data_new)\n",
    "    if i % 20 == 0:\n",
    "        sns.kdeplot(data_new, ax=ax, label=f\"Itration number = {i}\")\n",
    "plt.legend()\n"
   ],
   "metadata": {
    "collapsed": false,
    "ExecuteTime": {
     "end_time": "2024-04-02T17:14:32.771820Z",
     "start_time": "2024-04-02T17:14:32.454492Z"
    }
   },
   "id": "de50745b35233de9",
   "execution_count": 67,
   "outputs": []
  },
  {
   "cell_type": "code",
   "source": "",
   "metadata": {
    "collapsed": false
   },
   "id": "c3675fc96323e158",
   "execution_count": null,
   "outputs": []
  }
 ],
 "metadata": {
  "kernelspec": {
   "display_name": "Python 3",
   "language": "python",
   "name": "python3"
  },
  "language_info": {
   "codemirror_mode": {
    "name": "ipython",
    "version": 2
   },
   "file_extension": ".py",
   "mimetype": "text/x-python",
   "name": "python",
   "nbconvert_exporter": "python",
   "pygments_lexer": "ipython2",
   "version": "2.7.6"
  }
 },
 "nbformat": 4,
 "nbformat_minor": 5
}
