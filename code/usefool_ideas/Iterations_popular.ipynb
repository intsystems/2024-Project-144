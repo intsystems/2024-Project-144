{
 "cells": [
  {
   "cell_type": "code",
   "execution_count": 1,
   "id": "initial_id",
   "metadata": {
    "collapsed": true,
    "ExecuteTime": {
     "end_time": "2024-03-22T10:30:05.511763Z",
     "start_time": "2024-03-22T10:30:05.457969Z"
    }
   },
   "source": [
    "import scipy.stats as sps\n",
    "from scipy.interpolate import interp1d\n",
    "import numpy as np\n",
    "\n",
    "import pandas as pd\n",
    "import matplotlib.pyplot as plt\n",
    "import seaborn as sns\n",
    "from CMF_Predictor import CMFRecommender\n",
    "from tqdm import tqdm\n",
    "from libmf import mf"
   ],
   "outputs": []
  },
  {
   "cell_type": "code",
   "source": [
    "def usefulness(c, w, noice):\n",
    "    return np.arctan(c - w + noice) / np.pi + 0.5"
   ],
   "metadata": {
    "collapsed": false,
    "ExecuteTime": {
     "end_time": "2024-03-22T10:30:05.521329Z",
     "start_time": "2024-03-22T10:30:05.515450Z"
    }
   },
   "id": "55dfca8f998a51a5",
   "execution_count": 2,
   "outputs": []
  },
  {
   "cell_type": "code",
   "source": [
    "customer_distribution = sps.norm(0.6, 0.2)\n",
    "w_distribution = sps.norm(0, 0.4)\n",
    "\n",
    "epsilon = sps.norm(0, 0.05)\n",
    "\n",
    "\n",
    "class Distribution_Handler:\n",
    "    def __init__(self, distribution):\n",
    "        self.distribution = distribution\n",
    "\n",
    "    def rvs(self, size=1):\n",
    "        if issubclass(type(self.distribution), sps.rv_continuous):\n",
    "            return self.distribution.rvs(size)\n",
    "        else:\n",
    "            return self.distribution.resample(size)[0]\n"
   ],
   "metadata": {
    "collapsed": false,
    "ExecuteTime": {
     "end_time": "2024-03-22T10:30:10.190729Z",
     "start_time": "2024-03-22T10:30:10.179066Z"
    }
   },
   "id": "70b1cac38b3c3832",
   "execution_count": 3,
   "outputs": []
  },
  {
   "cell_type": "code",
   "source": [
    "def interpol_distribution(sample):\n",
    "    hst = np.histogram(sample, density=True, bins=200)\n",
    "    return interp1d(hst[1][:-1], hst[0], kind='linear',\n",
    "                    fill_value=0.0, bounds_error=False)"
   ],
   "metadata": {
    "collapsed": false,
    "ExecuteTime": {
     "end_time": "2024-03-22T09:49:02.770630Z",
     "start_time": "2024-03-22T09:49:02.768075Z"
    }
   },
   "id": "33d403b6405cea84",
   "execution_count": 16,
   "outputs": []
  },
  {
   "cell_type": "code",
   "source": [
    "def zero_step(model: CMFRecommender, user_info, item_info, topn=52):\n",
    "    new_feedback = []\n",
    "\n",
    "    maximal_user, maximal_item = model.get_max_index()\n",
    "    old_users = model.get_known_users_info().set_index(\"UserId\")\n",
    "\n",
    "    for i in range(topn):\n",
    "        user_id = np.random.choice(round(maximal_user) - 1)\n",
    "        for index, item_row in item_info.iterrows():\n",
    "            deal = sps.bernoulli.rvs(\n",
    "                usefulness(old_users.loc[user_id][\"F\"], item_row[\"F\"], epsilon.rvs()))  # моделируем сделки\n",
    "            new_feedback.append((user_id, item_row[\"ItemId\"], deal))\n",
    "\n",
    "    for index, user_row in user_info.iterrows():\n",
    "        w_offered = model.recommend_items_cold(user_row[\"F\"], topn)[\"ItemId\"]\n",
    "        for w in w_offered:\n",
    "            deal = sps.bernoulli.rvs(usefulness(user_row[\"F\"], w, epsilon.rvs()))  # моделируем сделки\n",
    "            new_feedback.append((user_row[\"UserId\"], w, deal))\n",
    "\n",
    "    model.retrain(new_feedback, user_info, item_info)\n",
    "    return model\n"
   ],
   "metadata": {
    "collapsed": false,
    "ExecuteTime": {
     "end_time": "2024-03-22T10:30:12.220312Z",
     "start_time": "2024-03-22T10:30:12.204904Z"
    }
   },
   "id": "15c9afdeb2e5f9a5",
   "execution_count": 4,
   "outputs": []
  },
  {
   "cell_type": "code",
   "source": [
    "def print_distributions(num_of_iteration, axs, user_info, item_info):\n",
    "    sns.kdeplot(user_info[\"F\"], ax=axs[0], label=f\"Itration number = {num_of_iteration}\")\n",
    "    axs[0].set_title(\"User Distribution\")\n",
    "    sns.kdeplot(data=item_info[\"F\"], ax=axs[1])\n",
    "    axs[1].set_title(\"Item Distribution\")"
   ],
   "metadata": {
    "collapsed": false,
    "ExecuteTime": {
     "end_time": "2024-03-22T10:40:56.623952Z",
     "start_time": "2024-03-22T10:40:56.615084Z"
    }
   },
   "id": "8057186e13499a46",
   "execution_count": 14,
   "outputs": []
  },
  {
   "cell_type": "code",
   "source": [
    "def dynamic_system_iterate(model: CMFRecommender, customer_distribution, w_distribution, c_size=10, w_size=10,\n",
    "                           num_of_steps=5,\n",
    "                           topn=5, delta=0.00001, visualize_distributions=None):\n",
    "    maximal_user, maximal_item = model.get_max_index()\n",
    "    user_info = pd.DataFrame(\n",
    "        {\"F\": customer_distribution.rvs(size=c_size)})  # size = (c_size, c_feature_size) в многомерном случае \n",
    "    user_info[\"UserId\"] = np.arange(maximal_user + 1, maximal_user + 1 + c_size)\n",
    "\n",
    "    item_info = pd.DataFrame(\n",
    "        {\"F\": w_distribution.rvs(size=w_size)})  # size = (w_size, w_feature_size) в многомерном случае \n",
    "    item_info[\"ItemId\"] = np.arange(maximal_item + 1, maximal_item + 1 + w_size)\n",
    "    model = zero_step(model, user_info, item_info, topn=topn)\n",
    "\n",
    "    if visualize_distributions is not None:\n",
    "        print_distributions(visualize_distributions[0], visualize_distributions[1], user_info, item_info)\n",
    "\n",
    "    new_feedback = []\n",
    "    hit = False\n",
    "    counter = 0\n",
    "    for step in range(1, num_of_steps + 1):\n",
    "        for index, user_row in user_info.iterrows():\n",
    "            w_offered = model.recommend_items(user_row[\"UserId\"], item_info['ItemId'], topn=topn, exclude_rated=True)[\n",
    "                \"ItemId\"]\n",
    "            for w in w_offered:\n",
    "                deal = sps.bernoulli.rvs(usefulness(user_row[\"F\"], w, epsilon.rvs()))  # моделируем сделки\n",
    "                counter += deal\n",
    "                new_feedback.append((user_row[\"UserId\"], w, deal))\n",
    "\n",
    "        model.retrain(new_feedback, [], [])\n",
    "\n",
    "    # смена распределения\n",
    "    new_feedback_df = pd.DataFrame(new_feedback, columns=['UserId', 'ItemId', 'Feedback'])\n",
    "    new_feedback_df[\"Feedback\"] += delta\n",
    "    grouped_users = new_feedback_df.groupby('UserId')['Feedback'].mean().reset_index()\n",
    "\n",
    "    user_info = user_info.merge(grouped_users, how=\"inner\", on='UserId')\n",
    "\n",
    "    customer_distribution = Distribution_Handler(sps.gaussian_kde(user_info[\"F\"], weights=user_info['Feedback']))\n",
    "    grouped_items = new_feedback_df.groupby('ItemId')['Feedback'].mean().reset_index()\n",
    "    # grouped_items['Feedback'] += delta\n",
    "\n",
    "    item_info = item_info.merge(grouped_items, how=\"inner\", on='ItemId')\n",
    "\n",
    "    w_distribution = Distribution_Handler(sps.gaussian_kde(item_info[\"F\"], weights=item_info['Feedback']))\n",
    "\n",
    "    return customer_distribution, w_distribution, float(counter) / c_size\n",
    "\n"
   ],
   "metadata": {
    "collapsed": false,
    "ExecuteTime": {
     "end_time": "2024-03-22T10:30:14.135581Z",
     "start_time": "2024-03-22T10:30:14.117884Z"
    }
   },
   "id": "4c86e4614c7d846e",
   "execution_count": 5,
   "outputs": []
  },
  {
   "cell_type": "code",
   "source": [
    "\n",
    "user_info = pd.DataFrame({\"F\": customer_distribution.rvs(size=1000)})  # генерим датасет для нулевой итерации\n",
    "user_info[\"UserId\"] = np.arange(1000)\n",
    "\n",
    "item_info = pd.DataFrame({\"F\": w_distribution.rvs(size=1000)})\n",
    "item_info[\"ItemId\"] = np.arange(1000)\n",
    "feedback = []\n",
    "\n",
    "# print_distributions(0, axs,user_info, item_info)\n",
    "\n",
    "for i, user_row in user_info.iterrows():\n",
    "    for j, item_row in item_info.iterrows():\n",
    "        deal = sps.bernoulli.rvs(usefulness(user_row[\"F\"], item_row[\"F\"], epsilon.rvs()))\n",
    "        feedback.append((user_row[\"UserId\"], item_row[\"ItemId\"], deal))\n"
   ],
   "metadata": {
    "collapsed": false,
    "ExecuteTime": {
     "end_time": "2024-03-22T10:35:30.073870Z",
     "start_time": "2024-03-22T10:32:37.282919Z"
    }
   },
   "id": "5144e4c9f8cb8f53",
   "execution_count": 10,
   "outputs": []
  },
  {
   "cell_type": "code",
   "source": [
    "model = CMFRecommender(capacity=10000)\n",
    "model.fit(feedback, user_info, item_info)"
   ],
   "metadata": {
    "collapsed": false,
    "ExecuteTime": {
     "end_time": "2024-03-22T10:40:38.153858Z",
     "start_time": "2024-03-22T10:40:35.877352Z"
    }
   },
   "id": "221f6c513d7841ab",
   "execution_count": 11,
   "outputs": []
  },
  {
   "cell_type": "code",
   "source": [
    "new_cust_distr, new_w_distr = customer_distribution, w_distribution"
   ],
   "metadata": {
    "collapsed": false,
    "ExecuteTime": {
     "end_time": "2024-03-22T10:40:44.903941Z",
     "start_time": "2024-03-22T10:40:44.900218Z"
    }
   },
   "id": "993fb963881b2f8e",
   "execution_count": 12,
   "outputs": []
  },
  {
   "cell_type": "code",
   "source": [
    " # new_cust_distr, new_w_distr, _ = dynamic_system_iterate(model, new_cust_distr, new_w_distr, c_size=10, w_size=10, visualize_distributions=True)"
   ],
   "metadata": {
    "collapsed": false,
    "ExecuteTime": {
     "end_time": "2024-03-21T14:07:53.137896Z",
     "start_time": "2024-03-21T14:07:53.135960Z"
    }
   },
   "id": "b86729505ddf9956",
   "execution_count": 25,
   "outputs": []
  },
  {
   "cell_type": "code",
   "source": [
    "big_steps = 10\n",
    "hit_metrics = []\n",
    "curr_hit = 0\n",
    "fig, axs = plt.subplots(ncols=2)\n",
    "for i in tqdm(range(big_steps)):\n",
    "    # if (i + 1) % 5 == 0:\n",
    "    new_cust_distr, new_w_distr, curr_hit = dynamic_system_iterate(model, new_cust_distr, new_w_distr, c_size=1000,\n",
    "                                                                   w_size=1000, visualize_distributions=(i, axs))\n",
    "    # else:\n",
    "    #     new_cust_distr, new_w_distr, curr_hit = dynamic_system_iterate(i, axs, model, new_cust_distr, new_w_distr, c_size=50,\n",
    "    #                                                                    w_size=50, visualize_distributions=False)\n",
    "    hit_metrics.append(curr_hit)\n",
    "\n",
    "fig.legend(loc='center left', bbox_to_anchor=(1, 0.5))\n",
    "fig.show()"
   ],
   "metadata": {
    "collapsed": false,
    "ExecuteTime": {
     "end_time": "2024-03-22T11:00:14.724316Z",
     "start_time": "2024-03-22T10:50:50.102707Z"
    }
   },
   "id": "e0a9608907e22999",
   "execution_count": 20,
   "outputs": []
  },
  {
   "cell_type": "code",
   "source": [
    "big_steps = 5\n",
    "hit_metrics = []\n",
    "curr_hit = 0\n",
    "fig, axs = plt.subplots(ncols=2)\n",
    "for i in tqdm(range(big_steps)):\n",
    "    # if (i + 1) % 5 == 0:\n",
    "    new_cust_distr, new_w_distr, curr_hit = dynamic_system_iterate(i, axs, model, new_cust_distr, new_w_distr,\n",
    "                                                                   c_size=50, w_size=50, visualize_distributions=False)\n",
    "    # else:\n",
    "    #     new_cust_distr, new_w_distr, curr_hit = dynamic_system_iterate(i, axs, model, new_cust_distr, new_w_distr, c_size=50,\n",
    "    #                                                                    w_size=50, visualize_distributions=False)\n",
    "    hit_metrics.append(curr_hit)\n",
    "\n"
   ],
   "metadata": {
    "collapsed": false,
    "ExecuteTime": {
     "end_time": "2024-03-21T14:39:41.585128Z",
     "start_time": "2024-03-21T14:38:35.435802Z"
    }
   },
   "id": "46710bc77b69bbc2",
   "execution_count": 11,
   "outputs": []
  },
  {
   "cell_type": "code",
   "source": [
    "plt.plot(np.arange(big_steps), hit_metrics)"
   ],
   "metadata": {
    "collapsed": false,
    "ExecuteTime": {
     "end_time": "2024-03-22T11:04:49.942022Z",
     "start_time": "2024-03-22T11:04:49.681697Z"
    }
   },
   "id": "9352256a56ea7a95",
   "execution_count": 21,
   "outputs": []
  },
  {
   "cell_type": "code",
   "source": [],
   "metadata": {
    "collapsed": false
   },
   "id": "ab67084b0d3feb39",
   "execution_count": null,
   "outputs": []
  }
 ],
 "metadata": {
  "kernelspec": {
   "display_name": "Python 3",
   "language": "python",
   "name": "python3"
  },
  "language_info": {
   "codemirror_mode": {
    "name": "ipython",
    "version": 2
   },
   "file_extension": ".py",
   "mimetype": "text/x-python",
   "name": "python",
   "nbconvert_exporter": "python",
   "pygments_lexer": "ipython2",
   "version": "2.7.6"
  }
 },
 "nbformat": 4,
 "nbformat_minor": 5
}
