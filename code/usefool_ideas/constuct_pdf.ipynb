{
 "cells": [
  {
   "metadata": {
    "ExecuteTime": {
     "end_time": "2024-04-16T20:29:36.552016Z",
     "start_time": "2024-04-16T20:29:35.145189Z"
    }
   },
   "cell_type": "code",
   "source": [
    "import numpy as np\n",
    "from scipy.stats import gaussian_kde\n",
    "import matplotlib.pyplot as plt\n",
    "from matplotlib import cm \n",
    "\n",
    "def inverse_function(L):\n",
    "    epsilon = 1e-8  # Small constant to avoid division by zero\n",
    "    return 1 / (L + epsilon)\n",
    "\n",
    "def construct_probability_density(points, L_values):\n",
    "    # Calculate the inverse of L_values\n",
    "    inverse_values = inverse_function(L_values)\n",
    "\n",
    "    # Normalize the inverse values\n",
    "    normalized_values = inverse_values / np.sum(inverse_values)\n",
    "    \n",
    "    # Create a Gaussian KDE object\n",
    "    pts = np.vstack([point for point in points]).T\n",
    "    kde = gaussian_kde(pts, weights=normalized_values)\n",
    "    return kde\n",
    "\n",
    "def L(x, y):\n",
    "    return x**2 + y**2\n",
    "\n",
    "# Example usage\n",
    "x = np.linspace(-1, 1, 100)\n",
    "y = np.linspace(-1, 1, 100)\n",
    "X, Y = np.meshgrid(x, y)\n",
    "\n",
    "points = [(X[i][j], Y[i][j]) for i in range(X.shape[0]) for j in range(X.shape[1])]\n",
    "L_values = np.array([L(x, y) for x, y in points])\n",
    "\n",
    "# Construct the probability density function p(x, y)\n",
    "p = construct_probability_density(points, L_values)\n",
    "\n",
    "# Generate a grid of points for visualization\n",
    "x = np.linspace(-1, 1, 100)\n",
    "y = np.linspace(-1, 1, 100)\n",
    "X, Y = np.meshgrid(x, y)\n",
    "positions = np.vstack([X.ravel(), Y.ravel()])\n",
    "\n",
    "# Evaluate the probability density function at the grid points\n",
    "Z = np.reshape(p(positions).T, X.shape)\n",
    "\n",
    "# Create a plot of the probability density function\n",
    "fig = plt.figure()\n",
    "ax = fig.add_subplot(111, projection='3d')\n",
    "ax.plot_surface(X, Y, Z, cmap='viridis')\n",
    "ax.set_xlabel('x')\n",
    "ax.set_ylabel('y')\n",
    "ax.set_zlabel('Probability Density')\n",
    "ax.set_title('Continuous Probability Density Function')\n",
    "\n",
    "# Show the plot\n",
    "plt.show()\n",
    "\n",
    "plt.contourf(X, Y, Z, levels=20, cmap=cm.viridis)\n",
    "plt.colorbar(label=\"Probability Density\")\n",
    "plt.xlabel(\"x\")\n",
    "plt.ylabel(\"y\")\n",
    "plt.title(\"Probability Density Function p(x, y)\")\n",
    "plt.show()"
   ],
   "id": "cf4f42ffbbac636c",
   "execution_count": 57,
   "outputs": []
  },
  {
   "metadata": {
    "ExecuteTime": {
     "end_time": "2024-04-16T17:43:00.258802Z",
     "start_time": "2024-04-16T17:43:00.118695Z"
    }
   },
   "cell_type": "code",
   "source": "plt.hist(p.resample(100)[0])",
   "id": "15f3360e27c3ba07",
   "execution_count": 54,
   "outputs": []
  },
  {
   "metadata": {},
   "cell_type": "code",
   "execution_count": null,
   "source": "",
   "id": "f770243b977c77e4",
   "outputs": []
  }
 ],
 "metadata": {
  "kernelspec": {
   "display_name": "Python 3",
   "language": "python",
   "name": "python3"
  },
  "language_info": {
   "codemirror_mode": {
    "name": "ipython",
    "version": 2
   },
   "file_extension": ".py",
   "mimetype": "text/x-python",
   "name": "python",
   "nbconvert_exporter": "python",
   "pygments_lexer": "ipython2",
   "version": "2.7.6"
  }
 },
 "nbformat": 4,
 "nbformat_minor": 5
}
